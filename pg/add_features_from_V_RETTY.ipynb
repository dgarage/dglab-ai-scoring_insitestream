{
 "cells": [
  {
   "cell_type": "code",
   "execution_count": 1,
   "metadata": {},
   "outputs": [],
   "source": [
    "import pandas as pd\n",
    "import sys\n",
    "sys.path.append('./utils')\n",
    "from utils import *\n",
    "from rank import *\n",
    "import japanize_matplotlib\n",
    "from process import * \n",
    "import tqdm"
   ]
  },
  {
   "cell_type": "code",
   "execution_count": 2,
   "metadata": {},
   "outputs": [],
   "source": [
    "# データ保存先\n",
    "data_folda = '../data/'"
   ]
  },
  {
   "cell_type": "code",
   "execution_count": 3,
   "metadata": {},
   "outputs": [],
   "source": [
    "pseudo_time_series = pd.read_pickle(data_folda+'pseudo_time_series_with_v_google.pkl')"
   ]
  },
  {
   "cell_type": "markdown",
   "metadata": {},
   "source": [
    "* V_GOOGLE の変数を追加"
   ]
  },
  {
   "cell_type": "code",
   "execution_count": 4,
   "metadata": {},
   "outputs": [],
   "source": [
    "pd_sf = read_table(data_folda,\"V_RETTY\",columns=\"all\",read_snowflake=False,col=\"*\")"
   ]
  },
  {
   "cell_type": "code",
   "execution_count": 5,
   "metadata": {},
   "outputs": [
    {
     "name": "stderr",
     "output_type": "stream",
     "text": [
      "/home/ec2-user/restaurant_scoring_ftdata/pg/./utils/rank.py:68: SettingWithCopyWarning: \n",
      "A value is trying to be set on a copy of a slice from a DataFrame.\n",
      "Try using .loc[row_indexer,col_indexer] = value instead\n",
      "\n",
      "See the caveats in the documentation: https://pandas.pydata.org/pandas-docs/stable/user_guide/indexing.html#returning-a-view-versus-a-copy\n",
      "  df[\"n_rank_count\"] = df[\"telephone_rank\"].isin([\"N\"]).astype(int) + df[\"address_rank\"].isin([\"N\"]).astype(int) + df[\"name_rank\"].isin([\"N\"]).astype(int)\n",
      "/home/ec2-user/restaurant_scoring_ftdata/pg/./utils/rank.py:73: SettingWithCopyWarning: \n",
      "A value is trying to be set on a copy of a slice from a DataFrame.\n",
      "Try using .loc[row_indexer,col_indexer] = value instead\n",
      "\n",
      "See the caveats in the documentation: https://pandas.pydata.org/pandas-docs/stable/user_guide/indexing.html#returning-a-view-versus-a-copy\n",
      "  df[\"denominator\"] = np.select(condition, choice, default=-1)\n",
      "/home/ec2-user/restaurant_scoring_ftdata/pg/./utils/rank.py:78: SettingWithCopyWarning: \n",
      "A value is trying to be set on a copy of a slice from a DataFrame.\n",
      "Try using .loc[row_indexer,col_indexer] = value instead\n",
      "\n",
      "See the caveats in the documentation: https://pandas.pydata.org/pandas-docs/stable/user_guide/indexing.html#returning-a-view-versus-a-copy\n",
      "  df[\"tel_numerator\"] = np.select(condition_tel, choice_tel, default=0) # rank N = 0\n",
      "/home/ec2-user/restaurant_scoring_ftdata/pg/./utils/rank.py:83: SettingWithCopyWarning: \n",
      "A value is trying to be set on a copy of a slice from a DataFrame.\n",
      "Try using .loc[row_indexer,col_indexer] = value instead\n",
      "\n",
      "See the caveats in the documentation: https://pandas.pydata.org/pandas-docs/stable/user_guide/indexing.html#returning-a-view-versus-a-copy\n",
      "  df[\"add_numerator\"] = np.select(condition_add, choice_add, default=0) # rank N = 0\n",
      "/home/ec2-user/restaurant_scoring_ftdata/pg/./utils/rank.py:88: SettingWithCopyWarning: \n",
      "A value is trying to be set on a copy of a slice from a DataFrame.\n",
      "Try using .loc[row_indexer,col_indexer] = value instead\n",
      "\n",
      "See the caveats in the documentation: https://pandas.pydata.org/pandas-docs/stable/user_guide/indexing.html#returning-a-view-versus-a-copy\n",
      "  df[\"name_numerator\"] = np.select(condition_name, choice_name, default=0) # rank N = 0\n",
      "/home/ec2-user/restaurant_scoring_ftdata/pg/./utils/rank.py:91: SettingWithCopyWarning: \n",
      "A value is trying to be set on a copy of a slice from a DataFrame.\n",
      "Try using .loc[row_indexer,col_indexer] = value instead\n",
      "\n",
      "See the caveats in the documentation: https://pandas.pydata.org/pandas-docs/stable/user_guide/indexing.html#returning-a-view-versus-a-copy\n",
      "  df[\"general_numerator\"] = df[\"tel_numerator\"] + df[\"add_numerator\"] + df[\"name_numerator\"]\n",
      "/home/ec2-user/restaurant_scoring_ftdata/pg/./utils/rank.py:94: SettingWithCopyWarning: \n",
      "A value is trying to be set on a copy of a slice from a DataFrame.\n",
      "Try using .loc[row_indexer,col_indexer] = value instead\n",
      "\n",
      "See the caveats in the documentation: https://pandas.pydata.org/pandas-docs/stable/user_guide/indexing.html#returning-a-view-versus-a-copy\n",
      "  df[\"division_result_value\"] = df[\"general_numerator\"] / df[\"denominator\"]\n",
      "/home/ec2-user/restaurant_scoring_ftdata/pg/./utils/rank.py:99: SettingWithCopyWarning: \n",
      "A value is trying to be set on a copy of a slice from a DataFrame.\n",
      "Try using .loc[row_indexer,col_indexer] = value instead\n",
      "\n",
      "See the caveats in the documentation: https://pandas.pydata.org/pandas-docs/stable/user_guide/indexing.html#returning-a-view-versus-a-copy\n",
      "  df[\"s_a_b_rank\"] = np.select(condition_result, choice_result, default=\"?\")\n"
     ]
    },
    {
     "data": {
      "text/plain": [
       "S    184517\n",
       "A    258213\n",
       "B     10454\n",
       "L    191495\n",
       "F        60\n",
       "N        86\n",
       "Name: general_rank, dtype: int64"
      ]
     },
     "metadata": {},
     "output_type": "display_data"
    },
    {
     "data": {
      "text/html": [
       "<div>\n",
       "<style scoped>\n",
       "    .dataframe tbody tr th:only-of-type {\n",
       "        vertical-align: middle;\n",
       "    }\n",
       "\n",
       "    .dataframe tbody tr th {\n",
       "        vertical-align: top;\n",
       "    }\n",
       "\n",
       "    .dataframe thead th {\n",
       "        text-align: right;\n",
       "    }\n",
       "</style>\n",
       "<table border=\"1\" class=\"dataframe\">\n",
       "  <thead>\n",
       "    <tr style=\"text-align: right;\">\n",
       "      <th></th>\n",
       "      <th>general_rank</th>\n",
       "      <th>general_rank</th>\n",
       "    </tr>\n",
       "  </thead>\n",
       "  <tbody>\n",
       "    <tr>\n",
       "      <th>S</th>\n",
       "      <td>184517</td>\n",
       "      <td>184517</td>\n",
       "    </tr>\n",
       "    <tr>\n",
       "      <th>A</th>\n",
       "      <td>258213</td>\n",
       "      <td>442730</td>\n",
       "    </tr>\n",
       "    <tr>\n",
       "      <th>B</th>\n",
       "      <td>10454</td>\n",
       "      <td>453184</td>\n",
       "    </tr>\n",
       "    <tr>\n",
       "      <th>L</th>\n",
       "      <td>191495</td>\n",
       "      <td>644679</td>\n",
       "    </tr>\n",
       "    <tr>\n",
       "      <th>F</th>\n",
       "      <td>60</td>\n",
       "      <td>644739</td>\n",
       "    </tr>\n",
       "    <tr>\n",
       "      <th>N</th>\n",
       "      <td>86</td>\n",
       "      <td>644825</td>\n",
       "    </tr>\n",
       "  </tbody>\n",
       "</table>\n",
       "</div>"
      ],
      "text/plain": [
       "   general_rank  general_rank\n",
       "S        184517        184517\n",
       "A        258213        442730\n",
       "B         10454        453184\n",
       "L        191495        644679\n",
       "F            60        644739\n",
       "N            86        644825"
      ]
     },
     "metadata": {},
     "output_type": "display_data"
    }
   ],
   "source": [
    "import rank\n",
    "# general rank を与える\n",
    "ranker=rank.Ranker()\n",
    "pd_sf=ranker.add_general_rank(pd_sf)\n",
    "r=pd_sf[\"general_rank\"].value_counts().sort_index()\n",
    "#S,A,B,L,F,N の順に value_countes を並べる\n",
    "r=r.loc[[\"S\",\"A\",\"B\",\"L\",\"F\",\"N\"]]\n",
    "display(r)\n",
    "# cummulative sumを表示\n",
    "display(pd.concat([r,r.cumsum()],axis=1))"
   ]
  },
  {
   "cell_type": "code",
   "execution_count": 6,
   "metadata": {},
   "outputs": [],
   "source": [
    "pd_sf.rename(columns={\"general_rank\":\"general_rank_RETTY\"},inplace=True)"
   ]
  },
  {
   "cell_type": "code",
   "execution_count": null,
   "metadata": {},
   "outputs": [],
   "source": []
  },
  {
   "cell_type": "code",
   "execution_count": 7,
   "metadata": {},
   "outputs": [],
   "source": [
    "# info.isOfficial の空文字を0, trueを1に変換\n",
    "pd_sf[\"infos.isOfficial\"]=pd_sf[\"infos.isOfficial\"].replace({\"\":0,\"true\":1}).astype(int)\n",
    "\n",
    "# infos.onlineReservation falseを0, trueを1に変換\n",
    "pd_sf[\"infos.onlineReservation\"]=pd_sf[\"infos.onlineReservation\"].replace({\"false\":0,\"true\":1}).astype(int)\n",
    "# infos.access.transferTime1 徒歩X分のXを取り出す。intに変換\n",
    "pd_sf[\"infos.access.transferTime1\"]=pd_sf[\"infos.access.transferTime1\"].str.extract(\"(\\d+)\").astype(float)\n",
    "# infos.numberOfSeats.valueの \"席\"を取り除く\n",
    "pd_sf[\"infos.numberOfSeats.value\"]=pd_sf[\"infos.numberOfSeats.value\"].str.replace(\"席\",\"\")\n",
    "#空文字はNaNに変換にしてfloatに変換\n",
    "pd_sf[\"infos.numberOfSeats.value\"]=pd_sf[\"infos.numberOfSeats.value\"].replace(\"\",np.nan)\n",
    "pd_sf[\"infos.numberOfSeats.value\"]=pd_sf[\"infos.numberOfSeats.value\"].astype(float)\n",
    "\n",
    "# infos.updateInfo.firstReviewDate の空文字をNaNに変換後、datetimeに変換\n",
    "pd_sf[\"infos.updateInfo.firstReviewDate\"]=pd_sf[\"infos.updateInfo.firstReviewDate\"].replace(\"\",np.nan)\n",
    "pd_sf[\"infos.updateInfo.firstReviewDate\"]=pd.to_datetime(pd_sf[\"infos.updateInfo.firstReviewDate\"],format=\"%Y年%m月%d日\")\n",
    "\n",
    "\n",
    "# pd_sf[\"infos.wantToGo\"]の空文字をNaNに変換後、floatに変換\n",
    "pd_sf[\"infos.wantToGo\"]=pd_sf[\"infos.wantToGo\"].replace(\"\",np.nan).astype(float)\n",
    "# pd_sf[\"infos.went\"]の空文字をNaNに変換後、floatに変換\n",
    "pd_sf[\"infos.went\"]=pd_sf[\"infos.went\"].replace(\"\",np.nan).astype(float)\n",
    "# infos.rateByWentの%を取り除いて、空文字をNaNに変換後、floatに変換\n",
    "pd_sf[\"infos.rateByWent\"]=pd_sf[\"infos.rateByWent\"].str.replace(\"%\",\"\").replace(\"\",np.nan).astype(float)\n",
    "\n",
    "# infos.excellentの空文字をNaNに変換後、floatに変換\n",
    "pd_sf[\"infos.excellent\"]=pd_sf[\"infos.excellent\"].replace(\"\",np.nan).astype(float)\n",
    "pd_sf[[\"infos.good\",\"infos.average\"]]=pd_sf[[\"infos.good\",\"infos.average\"]].replace(\"\",np.nan).astype(float)\n",
    "\n",
    "# infos.onlineReservation falseを0, trueを1に変換\n",
    "pd_sf[\"infos.coupon\"]=pd_sf[\"infos.coupon\"].replace({\"false\":0,\"true\":1}).astype(int)\n",
    "\n",
    "# float_listをfloatに変換\n",
    "float_list=['infos.familiar.users.count',\"infos.photoCount.Photograph\",\"infos.photoCount.Cooking\",\"infos.photoCount.Interior\",\n",
    "          \"infos.photoCount.Exterior\",\"infos.photoCount.Menu\",\"infos.reviewCount.Review\",\n",
    "          \"infos.reviewCount.Lunch\",\"infos.reviewCount.Dinner\",\n",
    "          \"menus.course_list_count\",\"menus.dishes_list_count\",\"menus.lunch_list_count\",\n",
    "          \"menus.drink_list_count\",\"menus.takeout_list_count\"]\n",
    "for col in float_list:\n",
    "    pd_sf[col]=pd_sf[col].replace(\"\",np.nan).astype(float)"
   ]
  },
  {
   "cell_type": "code",
   "execution_count": 8,
   "metadata": {},
   "outputs": [],
   "source": [
    "add_list=[\"restaurant_id\",'infos.isOfficial', 'infos.familiar.users.genge',\n",
    "       'infos.familiar.users.count', 'infos.familiar.stars',\n",
    "       'general_rank_RETTY', 'infos.reserveEntireStore',\n",
    "       'infos.onlineReservation', 'infos.access.transferTime1',\n",
    "       'infos.numberOfSeats.value', 'infos.counterSeats.value',\n",
    "       'infos.privateRoom.value', 'infos.updateInfo.firstReviewDate',\n",
    "       'infos.wantToGo', 'infos.updateInfo.lastReviewDate',\n",
    "       'infos.went', 'infos.rateByWent', 'infos.excellent', 'infos.coupon',\n",
    "       'infos.photoCount.Photograph', 'infos.photoCount.Cooking',\n",
    "       'infos.photoCount.Interior', 'infos.photoCount.Exterior',\n",
    "       'infos.photoCount.Menu', 'infos.reviewCount.Review',\n",
    "       'infos.reviewCount.Lunch', 'infos.reviewCount.Dinner',\n",
    "       'menus.course_list_count',\n",
    "       'menus.dishes_list_count', 'menus.lunch_list_count',\n",
    "       'menus.drink_list_count', 'menus.takeout_list_count']\n",
    "          \n",
    "          \n",
    "          "
   ]
  },
  {
   "cell_type": "code",
   "execution_count": 9,
   "metadata": {},
   "outputs": [],
   "source": [
    "pseudo_time_series=pd.merge(pseudo_time_series,pd_sf[add_list],on=\"restaurant_id\",how=\"left\")"
   ]
  },
  {
   "cell_type": "code",
   "execution_count": null,
   "metadata": {},
   "outputs": [],
   "source": [
    "pseudo_time_series.to_pickle(data_folda+'pseudo_time_series_with_v_retty.pkl')"
   ]
  },
  {
   "cell_type": "code",
   "execution_count": null,
   "metadata": {},
   "outputs": [],
   "source": [
    "pseudo_time_series=pd.read_pickle(data_folda+'pseudo_time_series_with_v_retty.pkl')"
   ]
  },
  {
   "cell_type": "code",
   "execution_count": null,
   "metadata": {},
   "outputs": [
    {
     "data": {
      "text/plain": [
       "Index(['restaurant_id', 'original_id', 'closed_date', 'business_status',\n",
       "       'prefecture', 'base_date', 'closed_flg', 'target3', 'target6',\n",
       "       'eval_period', 'id', 'name', 'branch_name', 'opened_date', 'created_at',\n",
       "       'genres', 'latitude', 'longitude', 'net_reservation_flg',\n",
       "       'price_range_lunch_by_owner', 'price_range_dinner_by_owner',\n",
       "       'price_range_lunch_by_review', 'price_range_dinner_by_review',\n",
       "       'coupons_count', 'reviews_count', 'hozon_count', 'all_photo_count',\n",
       "       'food_photo_count', 'drink_photo_count', 'interior_photo_count',\n",
       "       'exterior_photo_count', 'real_opened_date', 'openning_days',\n",
       "       'price_range_lunch_by_owner_num', 'price_range_dinner_by_owner_num',\n",
       "       'price_range_lunch_by_review_num', 'price_range_dinner_by_review_num',\n",
       "       'overview.aggregateRating', 'overview.reviewCount',\n",
       "       'general_rank_GOOGLE', 'infos.isOfficial', 'infos.familiar.users.genge',\n",
       "       'infos.familiar.users.count', 'infos.familiar.stars',\n",
       "       'general_rank_RETTY', 'infos.reserveEntireStore',\n",
       "       'infos.onlineReservation', 'infos.access.transferTime1',\n",
       "       'infos.numberOfSeats.value', 'infos.counterSeats.value',\n",
       "       'infos.privateRoom.value', 'infos.updateInfo.firstReviewDate',\n",
       "       'infos.wantToGo', 'infos.updateInfo.lastReviewDate', 'infos.went',\n",
       "       'infos.rateByWent', 'infos.excellent', 'infos.coupon',\n",
       "       'infos.photoCount.Photograph', 'infos.photoCount.Cooking',\n",
       "       'infos.photoCount.Interior', 'infos.photoCount.Exterior',\n",
       "       'infos.photoCount.Menu', 'infos.reviewCount.Review',\n",
       "       'infos.reviewCount.Lunch', 'infos.reviewCount.Dinner',\n",
       "       'menus.course_list_count', 'menus.dishes_list_count',\n",
       "       'menus.lunch_list_count', 'menus.drink_list_count',\n",
       "       'menus.takeout_list_count'],\n",
       "      dtype='object')"
      ]
     },
     "execution_count": 4,
     "metadata": {},
     "output_type": "execute_result"
    }
   ],
   "source": [
    "pseudo_time_series.columns"
   ]
  },
  {
   "cell_type": "code",
   "execution_count": null,
   "metadata": {},
   "outputs": [],
   "source": [
    "check_list=['infos.onlineReservation', 'infos.access.transferTime1',\n",
    "       'infos.numberOfSeats.value', 'infos.counterSeats.value',\n",
    "       'infos.privateRoom.value', 'infos.updateInfo.firstReviewDate',\n",
    "       'infos.wantToGo', 'infos.updateInfo.lastReviewDate', 'infos.went',\n",
    "       'infos.rateByWent', 'infos.excellent', 'infos.coupon',\n",
    "       'infos.photoCount.Photograph', 'infos.photoCount.Cooking',\n",
    "       'infos.photoCount.Interior', 'infos.photoCount.Exterior',\n",
    "       'infos.photoCount.Menu', 'infos.reviewCount.Review',\n",
    "       'infos.reviewCount.Lunch', 'infos.reviewCount.Dinner',\n",
    "       'menus.course_list_count', 'menus.dishes_list_count',\n",
    "       'menus.lunch_list_count', 'menus.drink_list_count',\n",
    "       'menus.takeout_list_count']"
   ]
  },
  {
   "cell_type": "code",
   "execution_count": null,
   "metadata": {},
   "outputs": [
    {
     "name": "stderr",
     "output_type": "stream",
     "text": [
      "/tmp/ipykernel_6001/2668809178.py:1: FutureWarning: ['infos.counterSeats.value', 'infos.privateRoom.value', 'infos.updateInfo.lastReviewDate'] did not aggregate successfully. If any error is raised this will raise in a future version of pandas. Drop these columns/ops to avoid this warning.\n",
      "  by_close_flg=pseudo_time_series.groupby(\"closed_flg\")[check_list].agg([\"mean\",\"min\",\"max\",\"median\"]).T\n"
     ]
    }
   ],
   "source": [
    "by_close_flg=pseudo_time_series.groupby(\"closed_flg\")[check_list].agg([\"mean\",\"min\",\"max\",\"median\"]).T"
   ]
  },
  {
   "cell_type": "markdown",
   "metadata": {},
   "source": [
    "* net reservation（食べログ） と online reservation (retty) の比較 "
   ]
  },
  {
   "cell_type": "code",
   "execution_count": null,
   "metadata": {},
   "outputs": [
    {
     "ename": "NameError",
     "evalue": "name 'pseudo_time_series' is not defined",
     "output_type": "error",
     "traceback": [
      "\u001b[0;31m---------------------------------------------------------------------------\u001b[0m",
      "\u001b[0;31mNameError\u001b[0m                                 Traceback (most recent call last)",
      "Cell \u001b[0;32mIn[4], line 1\u001b[0m\n\u001b[0;32m----> 1\u001b[0m pseudo_time_series[[\u001b[38;5;124m\"\u001b[39m\u001b[38;5;124minfos.onlineReservation\u001b[39m\u001b[38;5;124m\"\u001b[39m,\u001b[38;5;124m\"\u001b[39m\u001b[38;5;124mnet_reservation_flg\u001b[39m\u001b[38;5;124m\"\u001b[39m]]\u001b[38;5;241m.\u001b[39mvalue_counts()\n",
      "\u001b[0;31mNameError\u001b[0m: name 'pseudo_time_series' is not defined"
     ]
    }
   ],
   "source": [
    "pseudo_time_series[[\"infos.onlineReservation\",\"net_reservation_flg\"]].value_counts()\n",
    "#食べログで resevation flag が立っているても、半分以上は retty で reservation flag が立っていない"
   ]
  },
  {
   "cell_type": "markdown",
   "metadata": {},
   "source": [
    "* prefecture ごとの closed_flg の割合"
   ]
  },
  {
   "cell_type": "code",
   "execution_count": null,
   "metadata": {},
   "outputs": [
    {
     "name": "stdout",
     "output_type": "stream",
     "text": [
      "静岡県\n"
     ]
    },
    {
     "data": {
      "text/plain": [
       "0    0.992182\n",
       "1    0.007818\n",
       "Name: closed_flg, dtype: float64"
      ]
     },
     "metadata": {},
     "output_type": "display_data"
    },
    {
     "name": "stdout",
     "output_type": "stream",
     "text": [
      "\n",
      "大阪府\n"
     ]
    },
    {
     "data": {
      "text/plain": [
       "0    0.986165\n",
       "1    0.013835\n",
       "Name: closed_flg, dtype: float64"
      ]
     },
     "metadata": {},
     "output_type": "display_data"
    },
    {
     "name": "stdout",
     "output_type": "stream",
     "text": [
      "\n",
      "愛知県\n"
     ]
    },
    {
     "data": {
      "text/plain": [
       "0    0.987153\n",
       "1    0.012847\n",
       "Name: closed_flg, dtype: float64"
      ]
     },
     "metadata": {},
     "output_type": "display_data"
    },
    {
     "name": "stdout",
     "output_type": "stream",
     "text": [
      "\n",
      "三重県\n"
     ]
    },
    {
     "data": {
      "text/plain": [
       "0    0.990459\n",
       "1    0.009541\n",
       "Name: closed_flg, dtype: float64"
      ]
     },
     "metadata": {},
     "output_type": "display_data"
    },
    {
     "name": "stdout",
     "output_type": "stream",
     "text": [
      "\n",
      "東京都\n"
     ]
    },
    {
     "data": {
      "text/plain": [
       "0    0.983995\n",
       "1    0.016005\n",
       "Name: closed_flg, dtype: float64"
      ]
     },
     "metadata": {},
     "output_type": "display_data"
    },
    {
     "name": "stdout",
     "output_type": "stream",
     "text": [
      "\n",
      "福岡県\n"
     ]
    },
    {
     "data": {
      "text/plain": [
       "0    0.989295\n",
       "1    0.010705\n",
       "Name: closed_flg, dtype: float64"
      ]
     },
     "metadata": {},
     "output_type": "display_data"
    },
    {
     "name": "stdout",
     "output_type": "stream",
     "text": [
      "\n",
      "神奈川県\n"
     ]
    },
    {
     "data": {
      "text/plain": [
       "0    0.9865\n",
       "1    0.0135\n",
       "Name: closed_flg, dtype: float64"
      ]
     },
     "metadata": {},
     "output_type": "display_data"
    },
    {
     "name": "stdout",
     "output_type": "stream",
     "text": [
      "\n",
      "鹿児島県\n"
     ]
    },
    {
     "data": {
      "text/plain": [
       "0    0.996385\n",
       "1    0.003615\n",
       "Name: closed_flg, dtype: float64"
      ]
     },
     "metadata": {},
     "output_type": "display_data"
    },
    {
     "name": "stdout",
     "output_type": "stream",
     "text": [
      "\n",
      "京都府\n"
     ]
    },
    {
     "data": {
      "text/plain": [
       "0    0.990516\n",
       "1    0.009484\n",
       "Name: closed_flg, dtype: float64"
      ]
     },
     "metadata": {},
     "output_type": "display_data"
    },
    {
     "name": "stdout",
     "output_type": "stream",
     "text": [
      "\n",
      "熊本県\n"
     ]
    },
    {
     "data": {
      "text/plain": [
       "0    0.993308\n",
       "1    0.006692\n",
       "Name: closed_flg, dtype: float64"
      ]
     },
     "metadata": {},
     "output_type": "display_data"
    },
    {
     "name": "stdout",
     "output_type": "stream",
     "text": [
      "\n",
      "福井県\n"
     ]
    },
    {
     "data": {
      "text/plain": [
       "0    0.994916\n",
       "1    0.005084\n",
       "Name: closed_flg, dtype: float64"
      ]
     },
     "metadata": {},
     "output_type": "display_data"
    },
    {
     "name": "stdout",
     "output_type": "stream",
     "text": [
      "\n",
      "和歌山県\n"
     ]
    },
    {
     "data": {
      "text/plain": [
       "0    0.993987\n",
       "1    0.006013\n",
       "Name: closed_flg, dtype: float64"
      ]
     },
     "metadata": {},
     "output_type": "display_data"
    },
    {
     "name": "stdout",
     "output_type": "stream",
     "text": [
      "\n",
      "長野県\n"
     ]
    },
    {
     "data": {
      "text/plain": [
       "0    0.994058\n",
       "1    0.005942\n",
       "Name: closed_flg, dtype: float64"
      ]
     },
     "metadata": {},
     "output_type": "display_data"
    },
    {
     "name": "stdout",
     "output_type": "stream",
     "text": [
      "\n",
      "宮崎県\n"
     ]
    },
    {
     "data": {
      "text/plain": [
       "0    0.995011\n",
       "1    0.004989\n",
       "Name: closed_flg, dtype: float64"
      ]
     },
     "metadata": {},
     "output_type": "display_data"
    },
    {
     "name": "stdout",
     "output_type": "stream",
     "text": [
      "\n",
      "千葉県\n"
     ]
    },
    {
     "data": {
      "text/plain": [
       "0    0.98702\n",
       "1    0.01298\n",
       "Name: closed_flg, dtype: float64"
      ]
     },
     "metadata": {},
     "output_type": "display_data"
    },
    {
     "name": "stdout",
     "output_type": "stream",
     "text": [
      "\n",
      "岡山県\n"
     ]
    },
    {
     "data": {
      "text/plain": [
       "0    0.992483\n",
       "1    0.007517\n",
       "Name: closed_flg, dtype: float64"
      ]
     },
     "metadata": {},
     "output_type": "display_data"
    },
    {
     "name": "stdout",
     "output_type": "stream",
     "text": [
      "\n",
      "北海道\n"
     ]
    },
    {
     "data": {
      "text/plain": [
       "0    0.989666\n",
       "1    0.010334\n",
       "Name: closed_flg, dtype: float64"
      ]
     },
     "metadata": {},
     "output_type": "display_data"
    },
    {
     "name": "stdout",
     "output_type": "stream",
     "text": [
      "\n",
      "広島県\n"
     ]
    },
    {
     "data": {
      "text/plain": [
       "0    0.990113\n",
       "1    0.009887\n",
       "Name: closed_flg, dtype: float64"
      ]
     },
     "metadata": {},
     "output_type": "display_data"
    },
    {
     "name": "stdout",
     "output_type": "stream",
     "text": [
      "\n",
      "兵庫県\n"
     ]
    },
    {
     "data": {
      "text/plain": [
       "0    0.987641\n",
       "1    0.012359\n",
       "Name: closed_flg, dtype: float64"
      ]
     },
     "metadata": {},
     "output_type": "display_data"
    },
    {
     "name": "stdout",
     "output_type": "stream",
     "text": [
      "\n",
      "岩手県\n"
     ]
    },
    {
     "data": {
      "text/plain": [
       "0    0.992546\n",
       "1    0.007454\n",
       "Name: closed_flg, dtype: float64"
      ]
     },
     "metadata": {},
     "output_type": "display_data"
    },
    {
     "name": "stdout",
     "output_type": "stream",
     "text": [
      "\n",
      "埼玉県\n"
     ]
    },
    {
     "data": {
      "text/plain": [
       "0    0.987497\n",
       "1    0.012503\n",
       "Name: closed_flg, dtype: float64"
      ]
     },
     "metadata": {},
     "output_type": "display_data"
    },
    {
     "name": "stdout",
     "output_type": "stream",
     "text": [
      "\n",
      "山形県\n"
     ]
    },
    {
     "data": {
      "text/plain": [
       "0    0.993383\n",
       "1    0.006617\n",
       "Name: closed_flg, dtype: float64"
      ]
     },
     "metadata": {},
     "output_type": "display_data"
    },
    {
     "name": "stdout",
     "output_type": "stream",
     "text": [
      "\n",
      "長崎県\n"
     ]
    },
    {
     "data": {
      "text/plain": [
       "0    0.993984\n",
       "1    0.006016\n",
       "Name: closed_flg, dtype: float64"
      ]
     },
     "metadata": {},
     "output_type": "display_data"
    },
    {
     "name": "stdout",
     "output_type": "stream",
     "text": [
      "\n",
      "石川県\n"
     ]
    },
    {
     "data": {
      "text/plain": [
       "0    0.991701\n",
       "1    0.008299\n",
       "Name: closed_flg, dtype: float64"
      ]
     },
     "metadata": {},
     "output_type": "display_data"
    },
    {
     "name": "stdout",
     "output_type": "stream",
     "text": [
      "\n",
      "宮城県\n"
     ]
    },
    {
     "data": {
      "text/plain": [
       "0    0.988979\n",
       "1    0.011021\n",
       "Name: closed_flg, dtype: float64"
      ]
     },
     "metadata": {},
     "output_type": "display_data"
    },
    {
     "name": "stdout",
     "output_type": "stream",
     "text": [
      "\n",
      "奈良県\n"
     ]
    },
    {
     "data": {
      "text/plain": [
       "0    0.989852\n",
       "1    0.010148\n",
       "Name: closed_flg, dtype: float64"
      ]
     },
     "metadata": {},
     "output_type": "display_data"
    },
    {
     "name": "stdout",
     "output_type": "stream",
     "text": [
      "\n",
      "新潟県\n"
     ]
    },
    {
     "data": {
      "text/plain": [
       "0    0.991961\n",
       "1    0.008039\n",
       "Name: closed_flg, dtype: float64"
      ]
     },
     "metadata": {},
     "output_type": "display_data"
    },
    {
     "name": "stdout",
     "output_type": "stream",
     "text": [
      "\n",
      "群馬県\n"
     ]
    },
    {
     "data": {
      "text/plain": [
       "0    0.991582\n",
       "1    0.008418\n",
       "Name: closed_flg, dtype: float64"
      ]
     },
     "metadata": {},
     "output_type": "display_data"
    },
    {
     "name": "stdout",
     "output_type": "stream",
     "text": [
      "\n",
      "大分県\n"
     ]
    },
    {
     "data": {
      "text/plain": [
       "0    0.991678\n",
       "1    0.008322\n",
       "Name: closed_flg, dtype: float64"
      ]
     },
     "metadata": {},
     "output_type": "display_data"
    },
    {
     "name": "stdout",
     "output_type": "stream",
     "text": [
      "\n",
      "茨城県\n"
     ]
    },
    {
     "data": {
      "text/plain": [
       "0    0.992315\n",
       "1    0.007685\n",
       "Name: closed_flg, dtype: float64"
      ]
     },
     "metadata": {},
     "output_type": "display_data"
    },
    {
     "name": "stdout",
     "output_type": "stream",
     "text": [
      "\n",
      "栃木県\n"
     ]
    },
    {
     "data": {
      "text/plain": [
       "0    0.992424\n",
       "1    0.007576\n",
       "Name: closed_flg, dtype: float64"
      ]
     },
     "metadata": {},
     "output_type": "display_data"
    },
    {
     "name": "stdout",
     "output_type": "stream",
     "text": [
      "\n",
      "愛媛県\n"
     ]
    },
    {
     "data": {
      "text/plain": [
       "0    0.991963\n",
       "1    0.008037\n",
       "Name: closed_flg, dtype: float64"
      ]
     },
     "metadata": {},
     "output_type": "display_data"
    },
    {
     "name": "stdout",
     "output_type": "stream",
     "text": [
      "\n",
      "徳島県\n"
     ]
    },
    {
     "data": {
      "text/plain": [
       "0    0.992217\n",
       "1    0.007783\n",
       "Name: closed_flg, dtype: float64"
      ]
     },
     "metadata": {},
     "output_type": "display_data"
    },
    {
     "name": "stdout",
     "output_type": "stream",
     "text": [
      "\n",
      "香川県\n"
     ]
    },
    {
     "data": {
      "text/plain": [
       "0    0.992361\n",
       "1    0.007639\n",
       "Name: closed_flg, dtype: float64"
      ]
     },
     "metadata": {},
     "output_type": "display_data"
    },
    {
     "name": "stdout",
     "output_type": "stream",
     "text": [
      "\n",
      "岐阜県\n"
     ]
    },
    {
     "data": {
      "text/plain": [
       "0    0.992852\n",
       "1    0.007148\n",
       "Name: closed_flg, dtype: float64"
      ]
     },
     "metadata": {},
     "output_type": "display_data"
    },
    {
     "name": "stdout",
     "output_type": "stream",
     "text": [
      "\n",
      "秋田県\n"
     ]
    },
    {
     "data": {
      "text/plain": [
       "0    0.988409\n",
       "1    0.011591\n",
       "Name: closed_flg, dtype: float64"
      ]
     },
     "metadata": {},
     "output_type": "display_data"
    },
    {
     "name": "stdout",
     "output_type": "stream",
     "text": [
      "\n",
      "沖縄県\n"
     ]
    },
    {
     "data": {
      "text/plain": [
       "0    0.992738\n",
       "1    0.007262\n",
       "Name: closed_flg, dtype: float64"
      ]
     },
     "metadata": {},
     "output_type": "display_data"
    },
    {
     "name": "stdout",
     "output_type": "stream",
     "text": [
      "\n",
      "富山県\n"
     ]
    },
    {
     "data": {
      "text/plain": [
       "0    0.990537\n",
       "1    0.009463\n",
       "Name: closed_flg, dtype: float64"
      ]
     },
     "metadata": {},
     "output_type": "display_data"
    },
    {
     "name": "stdout",
     "output_type": "stream",
     "text": [
      "\n",
      "滋賀県\n"
     ]
    },
    {
     "data": {
      "text/plain": [
       "0    0.991359\n",
       "1    0.008641\n",
       "Name: closed_flg, dtype: float64"
      ]
     },
     "metadata": {},
     "output_type": "display_data"
    },
    {
     "name": "stdout",
     "output_type": "stream",
     "text": [
      "\n",
      "山口県\n"
     ]
    },
    {
     "data": {
      "text/plain": [
       "0    0.994165\n",
       "1    0.005835\n",
       "Name: closed_flg, dtype: float64"
      ]
     },
     "metadata": {},
     "output_type": "display_data"
    },
    {
     "name": "stdout",
     "output_type": "stream",
     "text": [
      "\n",
      "青森県\n"
     ]
    },
    {
     "data": {
      "text/plain": [
       "0    0.99165\n",
       "1    0.00835\n",
       "Name: closed_flg, dtype: float64"
      ]
     },
     "metadata": {},
     "output_type": "display_data"
    },
    {
     "name": "stdout",
     "output_type": "stream",
     "text": [
      "\n",
      "島根県\n"
     ]
    },
    {
     "data": {
      "text/plain": [
       "0    0.992566\n",
       "1    0.007434\n",
       "Name: closed_flg, dtype: float64"
      ]
     },
     "metadata": {},
     "output_type": "display_data"
    },
    {
     "name": "stdout",
     "output_type": "stream",
     "text": [
      "\n",
      "福島県\n"
     ]
    },
    {
     "data": {
      "text/plain": [
       "0    0.992419\n",
       "1    0.007581\n",
       "Name: closed_flg, dtype: float64"
      ]
     },
     "metadata": {},
     "output_type": "display_data"
    },
    {
     "name": "stdout",
     "output_type": "stream",
     "text": [
      "\n",
      "山梨県\n"
     ]
    },
    {
     "data": {
      "text/plain": [
       "0    0.993739\n",
       "1    0.006261\n",
       "Name: closed_flg, dtype: float64"
      ]
     },
     "metadata": {},
     "output_type": "display_data"
    },
    {
     "name": "stdout",
     "output_type": "stream",
     "text": [
      "\n",
      "高知県\n"
     ]
    },
    {
     "data": {
      "text/plain": [
       "0    0.995865\n",
       "1    0.004135\n",
       "Name: closed_flg, dtype: float64"
      ]
     },
     "metadata": {},
     "output_type": "display_data"
    },
    {
     "name": "stdout",
     "output_type": "stream",
     "text": [
      "\n",
      "佐賀県\n"
     ]
    },
    {
     "data": {
      "text/plain": [
       "0    0.993635\n",
       "1    0.006365\n",
       "Name: closed_flg, dtype: float64"
      ]
     },
     "metadata": {},
     "output_type": "display_data"
    },
    {
     "name": "stdout",
     "output_type": "stream",
     "text": [
      "\n",
      "鳥取県\n"
     ]
    },
    {
     "data": {
      "text/plain": [
       "0    0.991979\n",
       "1    0.008021\n",
       "Name: closed_flg, dtype: float64"
      ]
     },
     "metadata": {},
     "output_type": "display_data"
    },
    {
     "name": "stdout",
     "output_type": "stream",
     "text": [
      "\n"
     ]
    }
   ],
   "source": [
    "# 47都道府県でloop\n",
    "for pref in pseudo_time_series[\"prefecture\"].unique():\n",
    "    print(pref)\n",
    "    display(pseudo_time_series[pseudo_time_series[\"prefecture\"]==pref][\"closed_flg\"].value_counts(normalize=True))\n",
    "    print(\"\")"
   ]
  },
  {
   "cell_type": "code",
   "execution_count": null,
   "metadata": {},
   "outputs": [],
   "source": []
  }
 ],
 "metadata": {
  "kernelspec": {
   "display_name": "scoring",
   "language": "python",
   "name": "python3"
  },
  "language_info": {
   "codemirror_mode": {
    "name": "ipython",
    "version": 3
   },
   "file_extension": ".py",
   "mimetype": "text/x-python",
   "name": "python",
   "nbconvert_exporter": "python",
   "pygments_lexer": "ipython3",
   "version": "3.11.3"
  }
 },
 "nbformat": 4,
 "nbformat_minor": 2
}
