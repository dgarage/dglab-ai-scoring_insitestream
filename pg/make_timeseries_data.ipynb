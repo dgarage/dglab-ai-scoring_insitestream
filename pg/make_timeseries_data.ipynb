{
 "cells": [
  {
   "cell_type": "code",
   "execution_count": 1,
   "metadata": {},
   "outputs": [],
   "source": [
    "import pandas as pd\n",
    "import sys\n",
    "sys.path.append('./utils')\n",
    "from utils import *\n",
    "from rank import *"
   ]
  },
  {
   "cell_type": "code",
   "execution_count": 2,
   "metadata": {},
   "outputs": [],
   "source": [
    "# Name master に含まれているデータを選択\n",
    "table_name = 'V_RESTAURANT_NAME_MASTER'\n",
    "columns= \"all\"\n",
    "# データ保存先\n",
    "data_folda = '../data/'"
   ]
  },
  {
   "cell_type": "code",
   "execution_count": 3,
   "metadata": {},
   "outputs": [],
   "source": [
    "# snowflake から master data を読み込み\n",
    "pd_sf = read_table(data_folda,table_name,columns,read_snowflake=False,col=\"*\")"
   ]
  },
  {
   "cell_type": "code",
   "execution_count": 4,
   "metadata": {},
   "outputs": [
    {
     "data": {
      "text/plain": [
       "Index(['restaurant_id', 'list_type_id', 'name', 'branch_name', 'address',\n",
       "       'latitude', 'longitude', 'telephone', 'reservation_telephone', 'url',\n",
       "       'original_id', 'available', 'sort_no', 'created', 'modified',\n",
       "       'prefecture', 'area_name', 'business_status', 'closed_date'],\n",
       "      dtype='object')"
      ]
     },
     "execution_count": 4,
     "metadata": {},
     "output_type": "execute_result"
    }
   ],
   "source": [
    "pd_sf.columns"
   ]
  },
  {
   "cell_type": "code",
   "execution_count": 5,
   "metadata": {},
   "outputs": [],
   "source": [
    "# original_id, available, closed_date, closed_flg のみを抽出\n",
    "pd_sf = pd_sf[['restaurant_id','original_id', 'available', 'closed_date', 'business_status',\"prefecture\"]]"
   ]
  },
  {
   "cell_type": "code",
   "execution_count": 6,
   "metadata": {},
   "outputs": [],
   "source": [
    "# original_id is not null and available is 1 \n",
    "pd_sf=pd_sf[pd_sf['original_id'].isna()==False]\n",
    "pd_sf[\"available\"]=pd_sf[\"available\"].astype(int)\n",
    "pd_sf=pd_sf[pd_sf[\"available\"]==1]\n",
    "pd_sf['original_id']=pd_sf['original_id'].astype(int)"
   ]
  },
  {
   "cell_type": "code",
   "execution_count": 7,
   "metadata": {},
   "outputs": [],
   "source": [
    "# close_date を日付に変換\n",
    "pd_sf['closed_date'] = pd.to_datetime(pd_sf['closed_date'], format='%Y-%m-%d', errors='coerce')"
   ]
  },
  {
   "cell_type": "code",
   "execution_count": 8,
   "metadata": {},
   "outputs": [
    {
     "name": "stdout",
     "output_type": "stream",
     "text": [
      "2022-12-31 00:00:00\n",
      "2023-01-31 00:00:00\n",
      "2023-02-28 00:00:00\n",
      "2023-03-31 00:00:00\n",
      "2023-04-30 00:00:00\n",
      "2023-05-31 00:00:00\n",
      "2023-06-30 00:00:00\n",
      "2023-07-31 00:00:00\n",
      "2023-08-31 00:00:00\n",
      "2023-09-30 00:00:00\n",
      "2023-10-31 00:00:00\n",
      "2023-11-30 00:00:00\n"
     ]
    }
   ],
   "source": [
    "# yyyymmddの列を追加する。\n",
    "# 他のデータの内容は変わらず、2020年1月から2023年11月まで各月分のデータを用意する。\n",
    "# 日付けは各月末日とする\n",
    "# pandas のconcatは時間がかかるので、一旦、別に保存して最後に一度にconcatする。\n",
    "\n",
    "eval_period=pd.date_range('2023-01-01', '2023-12-01', freq='MS')\n",
    "#eval_period から一日前の日付を取得\n",
    "eval_period=eval_period - pd.Timedelta(days=1)\n",
    "\n",
    "# len(eval_period)のサイズを持つ、pandas のリストを作成\n",
    "temp_=[pd.DataFrame() for x in range(len(eval_period))]\n",
    "\n",
    "\n",
    "for i in eval_period:\n",
    "    print(i)\n",
    "    # pd_sfのコピーを作成\n",
    "    pd_sf_copy=pd_sf.copy()\n",
    "    # yyyymmddの列を追加、データの受領日を本来入れるべきであるが、ここでは1日を入れる\n",
    "    pd_sf_copy['base_date']=i\n",
    "    # augumented_dataに追加\n",
    "    temp_[eval_period.get_loc(i)]=pd_sf_copy\n",
    "    \n",
    "# pseudo_time_series を作成\n",
    "pseudo_time_series=pd.concat([temp_[i] for i in range(len(temp_))], ignore_index=True)\n"
   ]
  },
  {
   "cell_type": "code",
   "execution_count": 9,
   "metadata": {},
   "outputs": [],
   "source": [
    "pseudo_time_series[\"base_date\"]=pd.to_datetime(pseudo_time_series[\"base_date\"], format='%Y-%m-%d', errors='coerce')"
   ]
  },
  {
   "cell_type": "code",
   "execution_count": 10,
   "metadata": {},
   "outputs": [],
   "source": [
    "# target flg を追加する\n",
    "# closed_date 該当月はflg=1とする\n",
    "pseudo_time_series[\"closed_flg\"]=0\n",
    "pseudo_time_series.loc[pseudo_time_series[\"closed_date\"].dt.strftime('%Y%m')==pseudo_time_series[\"base_date\"].dt.strftime('%Y%m'),\"closed_flg\"]=1"
   ]
  },
  {
   "cell_type": "code",
   "execution_count": 11,
   "metadata": {},
   "outputs": [],
   "source": [
    "# 同じrestaurant_idで、closed_flg=1のデータがある場合、その月以降はclosed_flg=1とする\n",
    "pseudo_time_series.sort_values([\"restaurant_id\",\"base_date\"],inplace=True)\n",
    "pseudo_time_series[\"closed_flg\"]=pseudo_time_series.groupby(\"restaurant_id\")[\"closed_flg\"].cummax()"
   ]
  },
  {
   "cell_type": "code",
   "execution_count": 12,
   "metadata": {},
   "outputs": [],
   "source": [
    "# closed_flgをrestaurant_id毎に-3ヶ月ずらした列を追加する。これがtarget3になる。\n",
    "pseudo_time_series[\"target3\"]=pseudo_time_series.groupby(\"restaurant_id\")[\"closed_flg\"].shift(-3).ffill().astype(int)\n",
    "# closed_flgをrestaurant_id毎に-6ヶ月ずらした列を追加する。これがtarget6になる。\n",
    "pseudo_time_series[\"target6\"]=pseudo_time_series.groupby(\"restaurant_id\")[\"closed_flg\"].shift(-6).ffill().astype(int)\n"
   ]
  },
  {
   "cell_type": "code",
   "execution_count": 13,
   "metadata": {},
   "outputs": [],
   "source": [
    "# input は、closed_flgが1になる前の月までとする。\n",
    "pseudo_time_series[\"eval_period\"]=True\n",
    "# augumented_data.loc[augumented_data.groupby(\"restaurant_id\")[\"closed_flg\"].shift(-1).ffill()==1,\"eval_target3\"]=False\n",
    "# 課題：1日にモデルを作るが、モデル作成日に閉店した店舗は予測する必要があるか？\n",
    "pseudo_time_series.loc[pseudo_time_series[\"base_date\"]>=pseudo_time_series[\"closed_date\"],\"eval_period\"]=False"
   ]
  },
  {
   "cell_type": "code",
   "execution_count": 14,
   "metadata": {},
   "outputs": [],
   "source": [
    "pseudo_time_series[\"closed_flg\"]=pseudo_time_series[\"closed_flg\"].astype(int)"
   ]
  },
  {
   "cell_type": "code",
   "execution_count": 15,
   "metadata": {},
   "outputs": [],
   "source": [
    "# 作成した時系列データを保存する\n",
    "pseudo_time_series.to_pickle(data_folda+'pseudo_time_series.pkl')"
   ]
  },
  {
   "cell_type": "code",
   "execution_count": 16,
   "metadata": {},
   "outputs": [
    {
     "name": "stderr",
     "output_type": "stream",
     "text": [
      "/tmp/ipykernel_4500/3375611667.py:1: DtypeWarning: Columns (59) have mixed types. Specify dtype option on import or set low_memory=False.\n",
      "  master_data_20240301=pd.read_csv(data_folda+'restaurant_data.csv')\n"
     ]
    }
   ],
   "source": [
    "master_data_20240301=pd.read_csv(data_folda+'restaurant_data.csv')"
   ]
  },
  {
   "cell_type": "code",
   "execution_count": 17,
   "metadata": {},
   "outputs": [
    {
     "ename": "NameError",
     "evalue": "name 'pseudo_time_series_with' is not defined",
     "output_type": "error",
     "traceback": [
      "\u001b[0;31m---------------------------------------------------------------------------\u001b[0m",
      "\u001b[0;31mNameError\u001b[0m                                 Traceback (most recent call last)",
      "Cell \u001b[0;32mIn[17], line 1\u001b[0m\n\u001b[0;32m----> 1\u001b[0m train_20231130\u001b[38;5;241m=\u001b[39mpseudo_time_series_with[pseudo_time_series_with[\u001b[38;5;124m\"\u001b[39m\u001b[38;5;124mbase_date\u001b[39m\u001b[38;5;124m\"\u001b[39m]\u001b[38;5;241m==\u001b[39mpd\u001b[38;5;241m.\u001b[39mdatetime(\u001b[38;5;241m2023\u001b[39m,\u001b[38;5;241m11\u001b[39m,\u001b[38;5;241m30\u001b[39m)]\n\u001b[1;32m      2\u001b[0m master_data_20240301[\u001b[38;5;124m\"\u001b[39m\u001b[38;5;124mclose_date\u001b[39m\u001b[38;5;124m\"\u001b[39m]\u001b[38;5;241m=\u001b[39mpd\u001b[38;5;241m.\u001b[39mto_datetime(master_data_20240301[\u001b[38;5;124m\"\u001b[39m\u001b[38;5;124mclose_date\u001b[39m\u001b[38;5;124m\"\u001b[39m],errors\u001b[38;5;241m=\u001b[39m\u001b[38;5;124m\"\u001b[39m\u001b[38;5;124mcoerce\u001b[39m\u001b[38;5;124m\"\u001b[39m)\n\u001b[1;32m      3\u001b[0m \u001b[38;5;66;03m# business_status=0 もしくは、closed_dateが2023年11月30日以降、かつ掲載開始が11月30日以前の店舗の restaurant_id を取得\u001b[39;00m\n",
      "\u001b[0;31mNameError\u001b[0m: name 'pseudo_time_series_with' is not defined"
     ]
    }
   ],
   "source": [
    "train_20231130=pseudo_time_series_with[pseudo_time_series_with[\"base_date\"]==pd.datetime(2023,11,30)]\n",
    "master_data_20240301[\"close_date\"]=pd.to_datetime(master_data_20240301[\"close_date\"],errors=\"coerce\")\n",
    "# business_status=0 もしくは、closed_dateが2023年11月30日以降、かつ掲載開始が11月30日以前の店舗の restaurant_id を取得\n",
    "nonbaias_restaurant_id=master_data_20240301[((master_data_20240301[\"business_status\"]==0)\n",
    "                     |(master_data_20240301[\"close_date\"]>\"2023-11-30\"))\n",
    "                    &(master_data_20240301[\"created_at\"]<=\"2023-11-30\")][\"id\"]\n",
    "\n",
    "# train_20231130のoriginal_idがnonbaias_restaurant_idに含まれるものを取得\n",
    "train_20231130=train_20231130[train_20231130[\"original_id\"].isin(nonbaias_restaurant_id)]\n",
    "# その条件に合致するものは、eval_periodをTrueにする\n",
    "train_20231130.loc[train_20231130[\"original_id\"].isin(nonbaias_restaurant_id),\"eval_period\"]=True\n",
    "\n",
    "# master_data_20240301 の中で 2023年12月1日から2024年2月29日に閉店した店舗の restaurant_id を取得\n",
    "closed_in_3month_from20231201=master_data_20240301[(master_data_20240301[\"close_date\"]>\"2023-11-30\")\n",
    "                     &(master_data_20240301[\"close_date\"]<\"2024-03-01\")\n",
    "                     &(master_data_20240301[\"business_status\"]==1)][\"id\"]\n",
    "\n",
    "# train_20231130のoriginal_idがclosed_in_3month_from20231201に含まれるものについては、target3を1にする\n",
    "train_20231130.loc[train_20231130[\"original_id\"].isin(closed_in_3month_from20231201),\"target3\"]=1\n",
    "\n",
    "train_20231130.to_pickle(data_folda+'pseudo_time_series_non_bias.pkl')"
   ]
  }
 ],
 "metadata": {
  "kernelspec": {
   "display_name": "scoring",
   "language": "python",
   "name": "python3"
  },
  "language_info": {
   "codemirror_mode": {
    "name": "ipython",
    "version": 3
   },
   "file_extension": ".py",
   "mimetype": "text/x-python",
   "name": "python",
   "nbconvert_exporter": "python",
   "pygments_lexer": "ipython3",
   "version": "3.11.3"
  }
 },
 "nbformat": 4,
 "nbformat_minor": 2
}
