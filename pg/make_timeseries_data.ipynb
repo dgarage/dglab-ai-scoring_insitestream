{
 "cells": [
  {
   "cell_type": "code",
   "execution_count": 52,
   "metadata": {},
   "outputs": [],
   "source": [
    "import pandas as pd\n",
    "import sys\n",
    "sys.path.append('./utils')\n",
    "from utils import *\n",
    "from rank import *"
   ]
  },
  {
   "cell_type": "code",
   "execution_count": 53,
   "metadata": {},
   "outputs": [],
   "source": [
    "# Name master に含まれているデータを選択\n",
    "table_name = 'V_RESTAURANT_NAME_MASTER'\n",
    "columns= \"all\"\n",
    "# データ保存先\n",
    "data_folda = '../data/'\n",
    "save_columns=['restaurant_id', 'original_id', 'closed_date', 'base_date', 'target3','eval_period']"
   ]
  },
  {
   "cell_type": "code",
   "execution_count": 66,
   "metadata": {},
   "outputs": [],
   "source": [
    "# snowflake から master data を読み込み\n",
    "pd_sf = read_table(data_folda,table_name,columns,read_snowflake=False,col=\"*\")"
   ]
  },
  {
   "cell_type": "code",
   "execution_count": 84,
   "metadata": {},
   "outputs": [],
   "source": [
    "# 課題：将来的にはS3から取得できるようにする。\n",
    "master_data=pd.read_csv(data_folda+'restaurant_data.csv')"
   ]
  },
  {
   "cell_type": "code",
   "execution_count": 85,
   "metadata": {},
   "outputs": [],
   "source": [
    "# original_id, available, closed_date, closed_flg のみを抽出\n",
    "pd_sf = pd_sf[['restaurant_id','original_id', 'available', 'closed_date', 'business_status',\"prefecture\"]]"
   ]
  },
  {
   "cell_type": "code",
   "execution_count": 93,
   "metadata": {},
   "outputs": [],
   "source": [
    "# original_id is not null and available is 1 \n",
    "pd_sf=pd_sf[pd_sf['original_id'].isna()==False]\n",
    "pd_sf[\"available\"]=pd_sf[\"available\"].astype(int)\n",
    "pd_sf=pd_sf[pd_sf[\"available\"]==1]\n",
    "pd_sf['original_id']=pd_sf['original_id'].astype(int)"
   ]
  },
  {
   "cell_type": "code",
   "execution_count": 94,
   "metadata": {},
   "outputs": [],
   "source": [
    "# id で created_at を結合\n",
    "pd_sf = pd.merge(pd_sf,master_data[['id','created_at']],left_on='original_id',right_on=\"id\",how='left')"
   ]
  },
  {
   "cell_type": "code",
   "execution_count": 98,
   "metadata": {},
   "outputs": [],
   "source": [
    "# close_date を日付に変換\n",
    "pd_sf['closed_date'] = pd.to_datetime(pd_sf['closed_date'], format='%Y-%m-%d', errors='coerce')\n",
    "# created_at を日付に変換\n",
    "pd_sf['created_at'] = pd.to_datetime(pd_sf['created_at'], format='%Y-%m-%d', errors='coerce')"
   ]
  },
  {
   "cell_type": "code",
   "execution_count": 99,
   "metadata": {},
   "outputs": [
    {
     "name": "stdout",
     "output_type": "stream",
     "text": [
      "2018-12-31 00:00:00\n",
      "2019-01-31 00:00:00\n",
      "2019-02-28 00:00:00\n",
      "2019-03-31 00:00:00\n",
      "2019-04-30 00:00:00\n",
      "2019-05-31 00:00:00\n",
      "2019-06-30 00:00:00\n",
      "2019-07-31 00:00:00\n",
      "2019-08-31 00:00:00\n",
      "2019-09-30 00:00:00\n",
      "2019-10-31 00:00:00\n",
      "2019-11-30 00:00:00\n",
      "2019-12-31 00:00:00\n",
      "2020-01-31 00:00:00\n",
      "2020-02-29 00:00:00\n",
      "2020-03-31 00:00:00\n",
      "2020-04-30 00:00:00\n",
      "2020-05-31 00:00:00\n",
      "2020-06-30 00:00:00\n",
      "2020-07-31 00:00:00\n",
      "2020-08-31 00:00:00\n",
      "2020-09-30 00:00:00\n",
      "2020-10-31 00:00:00\n",
      "2020-11-30 00:00:00\n",
      "2020-12-31 00:00:00\n",
      "2021-01-31 00:00:00\n",
      "2021-02-28 00:00:00\n",
      "2021-03-31 00:00:00\n",
      "2021-04-30 00:00:00\n",
      "2021-05-31 00:00:00\n",
      "2021-06-30 00:00:00\n",
      "2021-07-31 00:00:00\n",
      "2021-08-31 00:00:00\n",
      "2021-09-30 00:00:00\n",
      "2021-10-31 00:00:00\n",
      "2021-11-30 00:00:00\n",
      "2021-12-31 00:00:00\n",
      "2022-01-31 00:00:00\n",
      "2022-02-28 00:00:00\n",
      "2022-03-31 00:00:00\n",
      "2022-04-30 00:00:00\n",
      "2022-05-31 00:00:00\n",
      "2022-06-30 00:00:00\n",
      "2022-07-31 00:00:00\n",
      "2022-08-31 00:00:00\n",
      "2022-09-30 00:00:00\n",
      "2022-10-31 00:00:00\n",
      "2022-11-30 00:00:00\n",
      "2022-12-31 00:00:00\n",
      "2023-01-31 00:00:00\n",
      "2023-02-28 00:00:00\n",
      "2023-03-31 00:00:00\n",
      "2023-04-30 00:00:00\n",
      "2023-05-31 00:00:00\n",
      "2023-06-30 00:00:00\n",
      "2023-07-31 00:00:00\n",
      "2023-08-31 00:00:00\n",
      "2023-09-30 00:00:00\n",
      "2023-10-31 00:00:00\n",
      "2023-11-30 00:00:00\n"
     ]
    }
   ],
   "source": [
    "# yyyymmddの列を追加する。\n",
    "# 他のデータの内容は変わらず、2020年1月から2023年11月まで各月分のデータを用意する。\n",
    "# 日付けは各月末日とする\n",
    "# pandas のconcatは時間がかかるので、一旦、別に保存して最後に一度にconcatする。\n",
    "\n",
    "eval_period=pd.date_range('2019-01-01', '2023-12-01', freq='MS')\n",
    "#eval_period から一日前の日付を取得\n",
    "eval_period=eval_period - pd.Timedelta(days=1)\n",
    "\n",
    "# len(eval_period)のサイズを持つ、pandas のリストを作成\n",
    "temp_=[pd.DataFrame() for x in range(len(eval_period))]\n",
    "\n",
    "\n",
    "for i in eval_period:\n",
    "    print(i)\n",
    "    # pd_sfのコピーを作成\n",
    "    pd_sf_copy=pd_sf.copy()\n",
    "    # yyyymmddの列を追加、データの受領日を本来入れるべきであるが、ここでは1日を入れる\n",
    "    pd_sf_copy['base_date']=i\n",
    "    # augumented_dataに追加\n",
    "    temp_[eval_period.get_loc(i)]=pd_sf_copy\n",
    "    \n",
    "# pseudo_time_series を作成\n",
    "pseudo_time_series=pd.concat([temp_[i] for i in range(len(temp_))], ignore_index=True)\n"
   ]
  },
  {
   "cell_type": "code",
   "execution_count": 100,
   "metadata": {},
   "outputs": [],
   "source": [
    "# base_date を日付に変換\n",
    "pseudo_time_series[\"base_date\"]=pd.to_datetime(pseudo_time_series[\"base_date\"], format='%Y-%m-%d', errors='coerce')"
   ]
  },
  {
   "cell_type": "code",
   "execution_count": 101,
   "metadata": {},
   "outputs": [],
   "source": [
    "# target flg を追加する\n",
    "# closed_date 該当月はflg=1とする\n",
    "pseudo_time_series[\"closed_flg\"]=0\n",
    "pseudo_time_series.loc[pseudo_time_series[\"closed_date\"].dt.strftime('%Y%m')==pseudo_time_series[\"base_date\"].dt.strftime('%Y%m'),\"closed_flg\"]=1"
   ]
  },
  {
   "cell_type": "code",
   "execution_count": 102,
   "metadata": {},
   "outputs": [],
   "source": [
    "# 同じrestaurant_idで、closed_flg=1のデータがある場合、その月以降はclosed_flg=1とする\n",
    "pseudo_time_series.sort_values([\"restaurant_id\",\"base_date\"],inplace=True)\n",
    "pseudo_time_series[\"closed_flg\"]=pseudo_time_series.groupby(\"restaurant_id\")[\"closed_flg\"].cummax()"
   ]
  },
  {
   "cell_type": "code",
   "execution_count": 103,
   "metadata": {},
   "outputs": [],
   "source": [
    "# closed_flgをrestaurant_id毎に-3ヶ月ずらした列を追加する。これがtarget3になる。\n",
    "pseudo_time_series[\"target3\"]=pseudo_time_series.groupby(\"restaurant_id\")[\"closed_flg\"].shift(-3).ffill().astype(int)\n",
    "# closed_flgをrestaurant_id毎に-6ヶ月ずらした列を追加する。これがtarget6になる。\n",
    "pseudo_time_series[\"target6\"]=pseudo_time_series.groupby(\"restaurant_id\")[\"closed_flg\"].shift(-6).ffill().astype(int)\n"
   ]
  },
  {
   "cell_type": "code",
   "execution_count": 121,
   "metadata": {},
   "outputs": [],
   "source": [
    "# input は、closed_flgが1になる前の月までとする。\n",
    "pseudo_time_series[\"eval_period\"]=True\n",
    "# augumented_data.loc[augumented_data.groupby(\"restaurant_id\")[\"closed_flg\"].shift(-1).ffill()==1,\"eval_target3\"]=False\n",
    "# base_date 以前に閉店したものeval_periodをFalseにする。\n",
    "pseudo_time_series.loc[pseudo_time_series[\"closed_date\"].dt.date<=pseudo_time_series[\"base_date\"],\"eval_period\"]=False\n",
    "\n",
    "# created_at が base_date 以降のものeval_periodをFalseにする。\n",
    "pseudo_time_series.loc[pseudo_time_series[\"base_date\"] < pseudo_time_series[\"created_at\"].dt.date,\"eval_period\"]=False"
   ]
  },
  {
   "cell_type": "code",
   "execution_count": 122,
   "metadata": {},
   "outputs": [],
   "source": [
    "pseudo_time_series[\"closed_flg\"]=pseudo_time_series[\"closed_flg\"].astype(int)\n",
    "\n",
    "pseudo_time_series.sort_values([\"restaurant_id\",\"base_date\"],inplace=True)\n",
    "\n",
    "# 作成した時系列データを保存する\n",
    "pseudo_time_series[save_columns].to_pickle(data_folda+'skeleton_train.pkl')"
   ]
  },
  {
   "cell_type": "markdown",
   "metadata": {},
   "source": [
    "* master_dataから base_date 時点で掲載中であったお店を選択する\n",
    "* base_date から3ヶ月間で閉店するお店の target3=1とする。"
   ]
  },
  {
   "cell_type": "code",
   "execution_count": 123,
   "metadata": {},
   "outputs": [],
   "source": [
    "base_date=\"2023-12-01\"\n",
    "# base_dateの一日前の日付を取得\n",
    "base_date_minus_1day=pd.to_datetime(base_date)-pd.Timedelta(days=1)\n",
    "# base_dateの3か月後の日付を取得\n",
    "base_date_plus_3month=pd.to_datetime(base_date)+pd.DateOffset(months=3)\n",
    "base_date_plus_3month=base_date_plus_3month.strftime('%Y-%m-%d')\n",
    "\n",
    "# pseudo_time_seriesの中でbase_dateの一日前の日と一致するものを取得\n",
    "test=pseudo_time_series[pseudo_time_series[\"base_date\"]==base_date_minus_1day]\n",
    "\n",
    "# master_dataのclose_date, created_atを日付に変換\n",
    "master_data[\"close_date\"]=pd.to_datetime(master_data[\"close_date\"],errors=\"coerce\")\n",
    "master_data[\"created_at\"]=pd.to_datetime(master_data[\"created_at\"],errors=\"coerce\")\n",
    "\n",
    "# base_dateより前に掲載を開始かつ、現在掲載中の店舗のrestaurant_idを取得\n",
    "nonbaias_restaurant_id_open=master_data[(master_data[\"business_status\"]==0) \n",
    "                                        & (master_data[\"created_at\"]<base_date)][\"id\"]\n",
    "# base_date以降に閉店した店舗かつ、base_date以前に掲載を開始したお店のrestaurant_idを取得\n",
    "nonbaias_restaurant_id_close=master_data[(master_data[\"business_status\"]==1) \n",
    "                                         & (master_data[\"close_date\"]>=base_date)\n",
    "                                         & (master_data[\"created_at\"]<base_date)][\"id\"] \n",
    "# 二つを結合\n",
    "nonbaias_restaurant_id=pd.concat([nonbaias_restaurant_id_open,nonbaias_restaurant_id_close])\n",
    "\n",
    "# testのoriginal_idがnonbaias_restaurant_idに含まれるものを取得\n",
    "test=test[test[\"original_id\"].isin(nonbaias_restaurant_id)]\n",
    "# eval_periodを全てTrueにする\n",
    "test.loc[test[\"original_id\"].isin(nonbaias_restaurant_id),\"eval_period\"]=True\n",
    "\n",
    "# master_data の中でbase_dateから3カ月以内にに閉店した店舗の restaurant_id を取得\n",
    "closed_in_3month_from20231201=master_data[(master_data[\"close_date\"]>=base_date)\n",
    "                     &(master_data[\"close_date\"]<base_date_plus_3month)\n",
    "                     &(master_data[\"business_status\"]==1)][\"id\"]\n",
    "\n",
    "# testのoriginal_idがclosed_in_3month_from20231201に含まれるものについては、target3を1にする\n",
    "test.loc[test[\"original_id\"].isin(closed_in_3month_from20231201),\"target3\"]=1\n",
    "\n",
    "\n",
    "test[save_columns].to_pickle(data_folda+'skeleton_test.pkl')"
   ]
  },
  {
   "cell_type": "markdown",
   "metadata": {},
   "source": [
    "* Train/Test 期間のeval_periodの数を確認"
   ]
  },
  {
   "cell_type": "code",
   "execution_count": 124,
   "metadata": {},
   "outputs": [
    {
     "data": {
      "text/plain": [
       "True    844322\n",
       "Name: eval_period, dtype: int64"
      ]
     },
     "execution_count": 124,
     "metadata": {},
     "output_type": "execute_result"
    }
   ],
   "source": [
    "test[\"eval_period\"].value_counts()"
   ]
  },
  {
   "cell_type": "code",
   "execution_count": 125,
   "metadata": {},
   "outputs": [
    {
     "name": "stdout",
     "output_type": "stream",
     "text": [
      "2018-12-31T00:00:00.000000000 True    605825\n",
      "Name: eval_period, dtype: int64\n",
      "2019-01-31T00:00:00.000000000 True    608934\n",
      "Name: eval_period, dtype: int64\n",
      "2019-02-28T00:00:00.000000000 True    612213\n",
      "Name: eval_period, dtype: int64\n",
      "2019-03-31T00:00:00.000000000 True    616191\n",
      "Name: eval_period, dtype: int64\n",
      "2019-04-30T00:00:00.000000000 True    620309\n",
      "Name: eval_period, dtype: int64\n",
      "2019-05-31T00:00:00.000000000 True    624541\n",
      "Name: eval_period, dtype: int64\n",
      "2019-06-30T00:00:00.000000000 True    628699\n",
      "Name: eval_period, dtype: int64\n",
      "2019-07-31T00:00:00.000000000 True    632987\n",
      "Name: eval_period, dtype: int64\n",
      "2019-08-31T00:00:00.000000000 True    637478\n",
      "Name: eval_period, dtype: int64\n",
      "2019-09-30T00:00:00.000000000 True    641904\n",
      "Name: eval_period, dtype: int64\n",
      "2019-10-31T00:00:00.000000000 True    646336\n",
      "Name: eval_period, dtype: int64\n",
      "2019-11-30T00:00:00.000000000 True    651001\n",
      "Name: eval_period, dtype: int64\n",
      "2019-12-31T00:00:00.000000000 True    655051\n",
      "Name: eval_period, dtype: int64\n",
      "2020-01-31T00:00:00.000000000 True    659166\n",
      "Name: eval_period, dtype: int64\n",
      "2020-02-29T00:00:00.000000000 True    663287\n",
      "Name: eval_period, dtype: int64\n",
      "2020-03-31T00:00:00.000000000 True    667400\n",
      "Name: eval_period, dtype: int64\n",
      "2020-04-30T00:00:00.000000000 True    670236\n",
      "Name: eval_period, dtype: int64\n",
      "2020-05-31T00:00:00.000000000 True    673114\n",
      "Name: eval_period, dtype: int64\n",
      "2020-06-30T00:00:00.000000000 True    676706\n",
      "Name: eval_period, dtype: int64\n",
      "2020-07-31T00:00:00.000000000 True    680667\n",
      "Name: eval_period, dtype: int64\n",
      "2020-08-31T00:00:00.000000000 True    684569\n",
      "Name: eval_period, dtype: int64\n",
      "2020-09-30T00:00:00.000000000 True    689152\n",
      "Name: eval_period, dtype: int64\n",
      "2020-10-31T00:00:00.000000000 True    693889\n",
      "Name: eval_period, dtype: int64\n",
      "2020-11-30T00:00:00.000000000 True    698700\n",
      "Name: eval_period, dtype: int64\n",
      "2020-12-31T00:00:00.000000000 True    703156\n",
      "Name: eval_period, dtype: int64\n",
      "2021-01-31T00:00:00.000000000 True    706706\n",
      "Name: eval_period, dtype: int64\n",
      "2021-02-28T00:00:00.000000000 True    710419\n",
      "Name: eval_period, dtype: int64\n",
      "2021-03-31T00:00:00.000000000 True    715467\n",
      "Name: eval_period, dtype: int64\n",
      "2021-04-30T00:00:00.000000000 True    720436\n",
      "Name: eval_period, dtype: int64\n",
      "2021-05-31T00:00:00.000000000 True    725985\n",
      "Name: eval_period, dtype: int64\n",
      "2021-06-30T00:00:00.000000000 True    730940\n",
      "Name: eval_period, dtype: int64\n",
      "2021-07-31T00:00:00.000000000 True    735529\n",
      "Name: eval_period, dtype: int64\n",
      "2021-08-31T00:00:00.000000000 True    740216\n",
      "Name: eval_period, dtype: int64\n",
      "2021-09-30T00:00:00.000000000 True    744659\n",
      "Name: eval_period, dtype: int64\n",
      "2021-10-31T00:00:00.000000000 True    749756\n",
      "Name: eval_period, dtype: int64\n",
      "2021-11-30T00:00:00.000000000 True    754785\n",
      "Name: eval_period, dtype: int64\n",
      "2021-12-31T00:00:00.000000000 True    759646\n",
      "Name: eval_period, dtype: int64\n",
      "2022-01-31T00:00:00.000000000 True    763835\n",
      "Name: eval_period, dtype: int64\n",
      "2022-02-28T00:00:00.000000000 True    767783\n",
      "Name: eval_period, dtype: int64\n",
      "2022-03-31T00:00:00.000000000 True    772713\n",
      "Name: eval_period, dtype: int64\n",
      "2022-04-30T00:00:00.000000000 True    778053\n",
      "Name: eval_period, dtype: int64\n",
      "2022-05-31T00:00:00.000000000 True    783381\n",
      "Name: eval_period, dtype: int64\n",
      "2022-06-30T00:00:00.000000000 True    788702\n",
      "Name: eval_period, dtype: int64\n",
      "2022-07-31T00:00:00.000000000 True    794217\n",
      "Name: eval_period, dtype: int64\n",
      "2022-08-31T00:00:00.000000000 True    799183\n",
      "Name: eval_period, dtype: int64\n",
      "2022-09-30T00:00:00.000000000 True    804312\n",
      "Name: eval_period, dtype: int64\n",
      "2022-10-31T00:00:00.000000000 True    809547\n",
      "Name: eval_period, dtype: int64\n",
      "2022-11-30T00:00:00.000000000 True    814950\n",
      "Name: eval_period, dtype: int64\n",
      "2022-12-31T00:00:00.000000000 True    820198\n",
      "Name: eval_period, dtype: int64\n",
      "2023-01-31T00:00:00.000000000 True    822083\n",
      "Name: eval_period, dtype: int64\n",
      "2023-02-28T00:00:00.000000000 True    824377\n",
      "Name: eval_period, dtype: int64\n",
      "2023-03-31T00:00:00.000000000 True    827843\n",
      "Name: eval_period, dtype: int64\n",
      "2023-04-30T00:00:00.000000000 True    831778\n",
      "Name: eval_period, dtype: int64\n",
      "2023-05-31T00:00:00.000000000 True    835787\n",
      "Name: eval_period, dtype: int64\n",
      "2023-06-30T00:00:00.000000000 True    839583\n",
      "Name: eval_period, dtype: int64\n",
      "2023-07-31T00:00:00.000000000 True    843397\n",
      "Name: eval_period, dtype: int64\n",
      "2023-08-31T00:00:00.000000000 True    846921\n",
      "Name: eval_period, dtype: int64\n",
      "2023-09-30T00:00:00.000000000 True    850111\n",
      "Name: eval_period, dtype: int64\n",
      "2023-10-31T00:00:00.000000000 True    854194\n",
      "Name: eval_period, dtype: int64\n",
      "2023-11-30T00:00:00.000000000 True    856995\n",
      "Name: eval_period, dtype: int64\n"
     ]
    }
   ],
   "source": [
    "for d in pseudo_time_series[\"base_date\"].unique():\n",
    "    print(d,pseudo_time_series[(pseudo_time_series[\"base_date\"]==d)\n",
    "                    &(pseudo_time_series[\"eval_period\"]==True)][\"eval_period\"].value_counts())"
   ]
  },
  {
   "cell_type": "code",
   "execution_count": 126,
   "metadata": {},
   "outputs": [
    {
     "data": {
      "text/plain": [
       "Index(['restaurant_id', 'original_id', 'available', 'closed_date',\n",
       "       'business_status', 'prefecture', 'id', 'created_at', 'base_date',\n",
       "       'closed_flg', 'target3', 'target6', 'eval_period'],\n",
       "      dtype='object')"
      ]
     },
     "execution_count": 126,
     "metadata": {},
     "output_type": "execute_result"
    }
   ],
   "source": [
    "pseudo_time_series.columns"
   ]
  },
  {
   "cell_type": "markdown",
   "metadata": {},
   "source": [
    "* Train/Test 期間のtarget3を確認"
   ]
  },
  {
   "cell_type": "code",
   "execution_count": 127,
   "metadata": {},
   "outputs": [
    {
     "data": {
      "text/plain": [
       "0    840306\n",
       "1      4016\n",
       "Name: target3, dtype: int64"
      ]
     },
     "execution_count": 127,
     "metadata": {},
     "output_type": "execute_result"
    }
   ],
   "source": [
    "test[\"target3\"].value_counts()"
   ]
  },
  {
   "cell_type": "code",
   "execution_count": 128,
   "metadata": {},
   "outputs": [
    {
     "name": "stdout",
     "output_type": "stream",
     "text": [
      "2018-12-31T00:00:00.000000000 0    605825\n",
      "Name: target3, dtype: int64\n",
      "2019-01-31T00:00:00.000000000 0    608934\n",
      "Name: target3, dtype: int64\n",
      "2019-02-28T00:00:00.000000000 0    612213\n",
      "Name: target3, dtype: int64\n",
      "2019-03-31T00:00:00.000000000 0    616191\n",
      "Name: target3, dtype: int64\n",
      "2019-04-30T00:00:00.000000000 0    620309\n",
      "Name: target3, dtype: int64\n",
      "2019-05-31T00:00:00.000000000 0    624541\n",
      "Name: target3, dtype: int64\n",
      "2019-06-30T00:00:00.000000000 0    628699\n",
      "Name: target3, dtype: int64\n",
      "2019-07-31T00:00:00.000000000 0    632987\n",
      "Name: target3, dtype: int64\n",
      "2019-08-31T00:00:00.000000000 0    637478\n",
      "Name: target3, dtype: int64\n",
      "2019-09-30T00:00:00.000000000 0    641904\n",
      "Name: target3, dtype: int64\n",
      "2019-10-31T00:00:00.000000000 0    646336\n",
      "Name: target3, dtype: int64\n",
      "2019-11-30T00:00:00.000000000 0    651001\n",
      "Name: target3, dtype: int64\n",
      "2019-12-31T00:00:00.000000000 0    655051\n",
      "Name: target3, dtype: int64\n",
      "2020-01-31T00:00:00.000000000 0    659166\n",
      "Name: target3, dtype: int64\n",
      "2020-02-29T00:00:00.000000000 0    663287\n",
      "Name: target3, dtype: int64\n",
      "2020-03-31T00:00:00.000000000 0    667400\n",
      "Name: target3, dtype: int64\n",
      "2020-04-30T00:00:00.000000000 0    670236\n",
      "Name: target3, dtype: int64\n",
      "2020-05-31T00:00:00.000000000 0    673114\n",
      "Name: target3, dtype: int64\n",
      "2020-06-30T00:00:00.000000000 0    676706\n",
      "Name: target3, dtype: int64\n",
      "2020-07-31T00:00:00.000000000 0    680667\n",
      "Name: target3, dtype: int64\n",
      "2020-08-31T00:00:00.000000000 0    684569\n",
      "Name: target3, dtype: int64\n",
      "2020-09-30T00:00:00.000000000 0    689152\n",
      "Name: target3, dtype: int64\n",
      "2020-10-31T00:00:00.000000000 0    693889\n",
      "Name: target3, dtype: int64\n",
      "2020-11-30T00:00:00.000000000 0    698700\n",
      "Name: target3, dtype: int64\n",
      "2020-12-31T00:00:00.000000000 0    703156\n",
      "Name: target3, dtype: int64\n",
      "2021-01-31T00:00:00.000000000 0    706706\n",
      "Name: target3, dtype: int64\n",
      "2021-02-28T00:00:00.000000000 0    710419\n",
      "Name: target3, dtype: int64\n",
      "2021-03-31T00:00:00.000000000 0    715467\n",
      "Name: target3, dtype: int64\n",
      "2021-04-30T00:00:00.000000000 0    720436\n",
      "Name: target3, dtype: int64\n",
      "2021-05-31T00:00:00.000000000 0    725985\n",
      "Name: target3, dtype: int64\n",
      "2021-06-30T00:00:00.000000000 0    730940\n",
      "Name: target3, dtype: int64\n",
      "2021-07-31T00:00:00.000000000 0    735529\n",
      "Name: target3, dtype: int64\n",
      "2021-08-31T00:00:00.000000000 0    740216\n",
      "Name: target3, dtype: int64\n",
      "2021-09-30T00:00:00.000000000 0    744659\n",
      "Name: target3, dtype: int64\n",
      "2021-10-31T00:00:00.000000000 0    749756\n",
      "Name: target3, dtype: int64\n",
      "2021-11-30T00:00:00.000000000 0    754785\n",
      "Name: target3, dtype: int64\n",
      "2021-12-31T00:00:00.000000000 0    759646\n",
      "Name: target3, dtype: int64\n",
      "2022-01-31T00:00:00.000000000 0    763835\n",
      "Name: target3, dtype: int64\n",
      "2022-02-28T00:00:00.000000000 0    767783\n",
      "Name: target3, dtype: int64\n",
      "2022-03-31T00:00:00.000000000 0    772713\n",
      "Name: target3, dtype: int64\n",
      "2022-04-30T00:00:00.000000000 0    778053\n",
      "Name: target3, dtype: int64\n",
      "2022-05-31T00:00:00.000000000 0    783381\n",
      "Name: target3, dtype: int64\n",
      "2022-06-30T00:00:00.000000000 0    788702\n",
      "Name: target3, dtype: int64\n",
      "2022-07-31T00:00:00.000000000 0    794217\n",
      "Name: target3, dtype: int64\n",
      "2022-08-31T00:00:00.000000000 0    799183\n",
      "Name: target3, dtype: int64\n",
      "2022-09-30T00:00:00.000000000 0    804312\n",
      "Name: target3, dtype: int64\n",
      "2022-10-31T00:00:00.000000000 0    807140\n",
      "1      2407\n",
      "Name: target3, dtype: int64\n",
      "2022-11-30T00:00:00.000000000 0    810577\n",
      "1      4373\n",
      "Name: target3, dtype: int64\n",
      "2022-12-31T00:00:00.000000000 0    813756\n",
      "1      6442\n",
      "Name: target3, dtype: int64\n",
      "2023-01-31T00:00:00.000000000 0    815955\n",
      "1      6128\n",
      "Name: target3, dtype: int64\n",
      "2023-02-28T00:00:00.000000000 0    818458\n",
      "1      5919\n",
      "Name: target3, dtype: int64\n",
      "2023-03-31T00:00:00.000000000 0    822581\n",
      "1      5262\n",
      "Name: target3, dtype: int64\n",
      "2023-04-30T00:00:00.000000000 0    827373\n",
      "1      4405\n",
      "Name: target3, dtype: int64\n",
      "2023-05-31T00:00:00.000000000 0    831634\n",
      "1      4153\n",
      "Name: target3, dtype: int64\n",
      "2023-06-30T00:00:00.000000000 0    835289\n",
      "1      4294\n",
      "Name: target3, dtype: int64\n",
      "2023-07-31T00:00:00.000000000 0    838956\n",
      "1      4441\n",
      "Name: target3, dtype: int64\n",
      "2023-08-31T00:00:00.000000000 0    843115\n",
      "1      3806\n",
      "Name: target3, dtype: int64\n",
      "2023-09-30T00:00:00.000000000 0    847851\n",
      "1      2260\n",
      "Name: target3, dtype: int64\n",
      "2023-10-31T00:00:00.000000000 0    853334\n",
      "1       860\n",
      "Name: target3, dtype: int64\n",
      "2023-11-30T00:00:00.000000000 0    856995\n",
      "Name: target3, dtype: int64\n"
     ]
    }
   ],
   "source": [
    "for d in pseudo_time_series[\"base_date\"].unique():\n",
    "    print(d,pseudo_time_series[(pseudo_time_series[\"base_date\"]==d)\n",
    "                    &(pseudo_time_series[\"eval_period\"]==True)][\"target3\"].value_counts())"
   ]
  }
 ],
 "metadata": {
  "kernelspec": {
   "display_name": "scoring",
   "language": "python",
   "name": "python3"
  },
  "language_info": {
   "codemirror_mode": {
    "name": "ipython",
    "version": 3
   },
   "file_extension": ".py",
   "mimetype": "text/x-python",
   "name": "python",
   "nbconvert_exporter": "python",
   "pygments_lexer": "ipython3",
   "version": "3.11.3"
  }
 },
 "nbformat": 4,
 "nbformat_minor": 2
}
