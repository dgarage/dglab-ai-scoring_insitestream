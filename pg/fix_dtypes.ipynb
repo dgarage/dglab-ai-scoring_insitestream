{
 "cells": [
  {
   "cell_type": "code",
   "execution_count": 1,
   "metadata": {},
   "outputs": [],
   "source": [
    "import pandas as pd\n",
    "import datetime\n",
    "import numpy as np\n",
    "import sys\n",
    "sys.path.append('./utils')\n",
    "from utils import *\n",
    "from process import * \n",
    "from add_list_master import *\n",
    "import japanize_matplotlib"
   ]
  },
  {
   "cell_type": "code",
   "execution_count": 2,
   "metadata": {},
   "outputs": [],
   "source": [
    "# データ保存先\n",
    "data_folda = '../data/'\n",
    "\n",
    "target_column=\"target6\"\n",
    "make_genre_list=True\n",
    "\n",
    "train_name=\"train_with_master_structured_main_medias.pkl\"\n",
    "test_name=\"test3_with_master_structured_main_medias.pkl\""
   ]
  },
  {
   "cell_type": "code",
   "execution_count": 3,
   "metadata": {},
   "outputs": [],
   "source": [
    "train_data = pd.read_pickle(data_folda+train_name)\n",
    "test_data = pd.read_pickle(data_folda+test_name)"
   ]
  },
  {
   "cell_type": "code",
   "execution_count": null,
   "metadata": {},
   "outputs": [],
   "source": []
  },
  {
   "cell_type": "code",
   "execution_count": 4,
   "metadata": {},
   "outputs": [],
   "source": [
    "# object型のカラムをリスト化する関数\n",
    "def get_object_column_list(df):\n",
    "    object_list = []\n",
    "    for column in df.columns:\n",
    "        if df[column].dtype == \"object\":\n",
    "            object_list.append(column)\n",
    "    return object_list\n",
    "\n",
    "object_list = get_object_column_list(train_data)"
   ]
  },
  {
   "cell_type": "code",
   "execution_count": 5,
   "metadata": {},
   "outputs": [
    {
     "name": "stdout",
     "output_type": "stream",
     "text": [
      "general_rank_GOOGLE A    4568844\n",
      "L    3382548\n",
      "S    2001156\n",
      "B     317268\n",
      "N     135288\n",
      "F      28152\n",
      "Name: general_rank_GOOGLE, dtype: int64\n",
      "infos.familiar.stars      7216200\n",
      "1     262632\n",
      "2     122268\n",
      "3      48840\n",
      "Name: infos.familiar.stars, dtype: int64\n",
      "general_rank_RETTY A    3085668\n",
      "L    2229756\n",
      "S    2212032\n",
      "B     120780\n",
      "N       1008\n",
      "F        696\n",
      "Name: general_rank_RETTY, dtype: int64\n",
      "infos.reserveEntireStore         7221408\n",
      "可        318972\n",
      "不可       109548\n",
      "可、不可         12\n",
      "Name: infos.reserveEntireStore, dtype: int64\n",
      "infos.counterSeats.value      4745412\n",
      "有    1916028\n",
      "無     988500\n",
      "Name: infos.counterSeats.value, dtype: int64\n",
      "infos.privateRoom.value      4736472\n",
      "無    2234484\n",
      "有     678984\n",
      "Name: infos.privateRoom.value, dtype: int64\n",
      "general_rank_HOTPEPPER L    2559048\n",
      "A    2051724\n",
      "S    1412268\n",
      "B     161616\n",
      "N      26124\n",
      "F        660\n",
      "Name: general_rank_HOTPEPPER, dtype: int64\n",
      "infos.couponCount 0    5279880\n",
      "3     289416\n",
      "2     224376\n",
      "1     222552\n",
      "4      71076\n",
      "5      65880\n",
      "6      34956\n",
      "7      13680\n",
      "8       9480\n",
      "9        144\n",
      "Name: infos.couponCount, dtype: int64\n",
      "aggregateRating.reviewCount     3538368\n",
      "Name: aggregateRating.reviewCount, dtype: int64\n",
      "aggregateRating.bestRating     3538368\n",
      "Name: aggregateRating.bestRating, dtype: int64\n",
      "aggregateRating.worstRating     3538368\n",
      "Name: aggregateRating.worstRating, dtype: int64\n",
      "interactionCount.went     3538368\n",
      "Name: interactionCount.went, dtype: int64\n",
      "interactionCount.wanttogo     3538368\n",
      "Name: interactionCount.wanttogo, dtype: int64\n",
      "paymentAccepted     3538368\n",
      "Name: paymentAccepted, dtype: int64\n",
      "general_rank_STRUCTURED S    2943264\n",
      "A     587064\n",
      "L       7560\n",
      "B        480\n",
      "Name: general_rank_STRUCTURED, dtype: int64\n",
      "hostname 食べログ    3538368\n",
      "Name: hostname, dtype: int64\n",
      "general_rank_TRIPADVISOR L    2244744\n",
      "A    1455240\n",
      "S     880884\n",
      "N     324348\n",
      "B      60492\n",
      "F        384\n",
      "Name: general_rank_TRIPADVISOR, dtype: int64\n",
      "infos.aggregateRating_TRIPADVISOR 4      1526124\n",
      "       1078932\n",
      "3.5     835224\n",
      "4.5     640992\n",
      "3       457152\n",
      "5       334836\n",
      "2.5      39984\n",
      "2        28308\n",
      "0        12108\n",
      "1         9684\n",
      "1.5       2748\n",
      "Name: infos.aggregateRating_TRIPADVISOR, dtype: int64\n",
      "general_rank_HITOSARA S    6560124\n",
      "A     605088\n",
      "L     418236\n",
      "B      13560\n",
      "F        300\n",
      "N         12\n",
      "Name: general_rank_HITOSARA, dtype: int64\n"
     ]
    }
   ],
   "source": [
    "# object 型で int に変換できるカラムをリスト化\n",
    "int_convert_list = []\n",
    "for column in object_list:\n",
    "    if(len(train_data[column].value_counts())<20):\n",
    "        print(column,train_data[column].value_counts())\n",
    "        int_convert_list.append(column)\n",
    "\n",
    "# 欠損と NaN の見分けがつかなくなることを避ける\n"
   ]
  },
  {
   "cell_type": "code",
   "execution_count": 16,
   "metadata": {},
   "outputs": [
    {
     "data": {
      "text/plain": [
       "42"
      ]
     },
     "execution_count": 16,
     "metadata": {},
     "output_type": "execute_result"
    }
   ],
   "source": [
    "len(object_list)"
   ]
  },
  {
   "cell_type": "code",
   "execution_count": 7,
   "metadata": {},
   "outputs": [
    {
     "name": "stdout",
     "output_type": "stream",
     "text": [
      "infos.familiar.stars\n",
      "infos.reserveEntireStore\n",
      "infos.reserveEntireStore\n",
      "infos.counterSeats.value\n",
      "infos.counterSeats.value\n",
      "infos.privateRoom.value\n",
      "infos.privateRoom.value\n",
      "infos.couponCount\n",
      "aggregateRating.reviewCount\n",
      "aggregateRating.bestRating\n",
      "aggregateRating.worstRating\n",
      "interactionCount.went\n",
      "interactionCount.wanttogo\n",
      "paymentAccepted\n",
      "hostname\n",
      "hostname\n",
      "infos.aggregateRating_TRIPADVISOR\n"
     ]
    }
   ],
   "source": [
    "# int_convert_list に含まれるカラムを float に変換\n",
    "# general_rankは除く\n",
    "# float にならないものは カテゴリ化\n",
    "\n",
    "for column in int_convert_list:\n",
    "    if column.find(\"general_rank\") == -1:\n",
    "        try:\n",
    "            print(column)\n",
    "            # 空文字は先に、np.Nan に変換する。クロールできなかったメディアとの区別は general_rank の有無を使う。\n",
    "            train_data[column] = train_data[column].replace('',np.nan).astype(float)\n",
    "            test_data[column] = test_data[column].replace('',np.nan).astype(float)\n",
    "        except:\n",
    "            print(column)\n",
    "            train_data[column] = train_data[column].astype(\"category\")\n",
    "            test_data[column] = test_data[column].astype(\"category\")\n",
    "\n",
    "# infos.familiar.stars の欠損が別の値になっていないか -> 欠損も空文字もまとめて、空文字になっている。\n",
    "# aggregateRating はどうなった？"
   ]
  },
  {
   "cell_type": "code",
   "execution_count": 10,
   "metadata": {},
   "outputs": [
    {
     "data": {
      "text/plain": [
       "0            \n",
       "1            \n",
       "2            \n",
       "3            \n",
       "4            \n",
       "           ..\n",
       "10503763     \n",
       "10503764     \n",
       "10503765     \n",
       "10503766     \n",
       "10503767     \n",
       "Name: infos.counterSeats.value, Length: 10503768, dtype: category\n",
       "Categories (3, object): ['', '有', '無']"
      ]
     },
     "execution_count": 10,
     "metadata": {},
     "output_type": "execute_result"
    }
   ],
   "source": [
    "train_data[\"infos.counterSeats.value\"]"
   ]
  },
  {
   "cell_type": "code",
   "execution_count": 12,
   "metadata": {},
   "outputs": [
    {
     "name": "stdout",
     "output_type": "stream",
     "text": [
      "<class 'pandas.core.frame.DataFrame'>\n",
      "Int64Index: 10503768 entries, 0 to 10503767\n",
      "Columns: 114 entries, restaurant_id to infos.onlineReservation_HITOSARA\n",
      "dtypes: bool(1), category(7), datetime64[ns](5), float32(47), float64(13), int16(3), int32(5), int8(4), object(29)\n",
      "memory usage: 6.0+ GB\n"
     ]
    }
   ],
   "source": [
    "train_data.info()"
   ]
  },
  {
   "cell_type": "code",
   "execution_count": 14,
   "metadata": {},
   "outputs": [],
   "source": [
    "# aggregateRating.reviewCount, aggregateRating.bestRating, aggregateRating.worstRating, interactionCount.went, interactionCount.wanttogo,\n",
    "# paymentAccepted, hostname, infos.aggregateRating_TRIPADVISOR はカラムから削除する\n",
    "drop_list = [\"aggregateRating.reviewCount\",\"aggregateRating.bestRating\",\"aggregateRating.worstRating\",\"interactionCount.went\",\"interactionCount.wanttogo\",\"paymentAccepted\",\"hostname\",\"infos.aggregateRating_TRIPADVISOR\"]\n",
    "train_data = train_data.drop(drop_list,axis=1)\n",
    "test_data = test_data.drop(drop_list,axis=1)"
   ]
  },
  {
   "cell_type": "code",
   "execution_count": 15,
   "metadata": {},
   "outputs": [],
   "source": [
    "train_data.to_csv(data_folda+\"train_data_fix_dtypes.csv\",index=False)\n",
    "test_data.to_csv(data_folda+\"test_data_fix_dtypes.csv\",index=False)"
   ]
  }
 ],
 "metadata": {
  "kernelspec": {
   "display_name": "scoring",
   "language": "python",
   "name": "python3"
  },
  "language_info": {
   "codemirror_mode": {
    "name": "ipython",
    "version": 3
   },
   "file_extension": ".py",
   "mimetype": "text/x-python",
   "name": "python",
   "nbconvert_exporter": "python",
   "pygments_lexer": "ipython3",
   "version": "3.11.3"
  }
 },
 "nbformat": 4,
 "nbformat_minor": 2
}
