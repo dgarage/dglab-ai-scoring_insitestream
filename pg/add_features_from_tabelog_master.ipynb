{
 "cells": [
  {
   "cell_type": "code",
   "execution_count": 1,
   "metadata": {},
   "outputs": [],
   "source": [
    "import pandas as pd\n",
    "import sys\n",
    "sys.path.append('./utils')\n",
    "from utils import *\n",
    "from rank import *\n",
    "from process import *"
   ]
  },
  {
   "cell_type": "code",
   "execution_count": 2,
   "metadata": {},
   "outputs": [],
   "source": [
    "# データ保存先\n",
    "data_folda = '../data/'"
   ]
  },
  {
   "cell_type": "code",
   "execution_count": 3,
   "metadata": {},
   "outputs": [],
   "source": [
    "# make_timeseries_data.ipynb で作成したデータを読み込む\n",
    "pseudo_time_series=pd.read_pickle(data_folda+'pseudo_time_series.pkl')"
   ]
  },
  {
   "cell_type": "code",
   "execution_count": 4,
   "metadata": {},
   "outputs": [
    {
     "data": {
      "text/plain": [
       "Index(['restaurant_id', 'original_id', 'available', 'closed_date',\n",
       "       'business_status', 'prefecture', 'base_date', 'closed_flg', 'target3',\n",
       "       'target6', 'eval_period'],\n",
       "      dtype='object')"
      ]
     },
     "execution_count": 4,
     "metadata": {},
     "output_type": "execute_result"
    }
   ],
   "source": [
    "pseudo_time_series.columns"
   ]
  },
  {
   "cell_type": "code",
   "execution_count": 5,
   "metadata": {},
   "outputs": [
    {
     "name": "stderr",
     "output_type": "stream",
     "text": [
      "/tmp/ipykernel_12193/243680395.py:1: DtypeWarning: Columns (28,29,31) have mixed types. Specify dtype option on import or set low_memory=False.\n",
      "  tabelog = pd.read_csv(data_folda+'20231121163030_DG-Lab_tabelog_restaurant_data.csv')\n"
     ]
    }
   ],
   "source": [
    "tabelog = pd.read_csv(data_folda+'20231121163030_DG-Lab_tabelog_restaurant_data.csv')"
   ]
  },
  {
   "cell_type": "markdown",
   "metadata": {},
   "source": [
    "### master data から加えるデータを定義"
   ]
  },
  {
   "cell_type": "code",
   "execution_count": 6,
   "metadata": {},
   "outputs": [],
   "source": [
    "add_list=['name','branch_name','opened_date', 'created_at', 'genres',\"latitude\",\"longitude\",\n",
    "          \"net_reservation_flg\",\n",
    "          'price_range_lunch_by_owner','price_range_dinner_by_owner', 'price_range_lunch_by_review','price_range_dinner_by_review']\n",
    "\n",
    "# カウント系のカラムを追加\n",
    "count_columns=tabelog.columns[tabelog.columns.str.contains('count')].tolist()\n",
    "\n",
    "add_list+=count_columns"
   ]
  },
  {
   "cell_type": "markdown",
   "metadata": {},
   "source": []
  },
  {
   "cell_type": "markdown",
   "metadata": {},
   "source": [
    "* count 系のカラムも追加\n",
    "\n",
    "count_columns=tabelog.columns[tabelog.columns.str.contains('count')].tolist()\n"
   ]
  },
  {
   "cell_type": "code",
   "execution_count": 7,
   "metadata": {},
   "outputs": [],
   "source": [
    "# augumented_data から不要なカラムを削除\n",
    "# 不要なカラム\n",
    "# 'list_type_id','telephone', 'reservation_telephone', 'url', 'original_id', 'available', 'sort_no', 'created', 'modified'\n",
    "pseudo_time_series.drop(['available'], axis=1, inplace=True)"
   ]
  },
  {
   "cell_type": "code",
   "execution_count": 8,
   "metadata": {},
   "outputs": [],
   "source": [
    "pseudo_time_series=pd.merge(pseudo_time_series, tabelog[[\"id\"]+add_list], left_on=\"original_id\",right_on='id', how='left')"
   ]
  },
  {
   "cell_type": "markdown",
   "metadata": {},
   "source": [
    "### 営業日の計算。* 本来は opened_date と created at の古い方を採用したいが、opened_date が古すぎて datetime型に変換出来ないので、created at のみで対応。 "
   ]
  },
  {
   "cell_type": "markdown",
   "metadata": {},
   "source": []
  },
  {
   "cell_type": "code",
   "execution_count": 9,
   "metadata": {},
   "outputs": [],
   "source": [
    "pseudo_time_series[\"created_at\"]=pd.to_datetime(pseudo_time_series[\"created_at\"])\n"
   ]
  },
  {
   "cell_type": "code",
   "execution_count": 10,
   "metadata": {},
   "outputs": [
    {
     "data": {
      "text/plain": [
       "'\\n#pseudo_time_series[\"opened_date\"]=pd.to_datetime(pseudo_time_series[\"opened_date\"])\\n\\npseudo_time_series[\"opened_date_temp\"]=pseudo_time_series[\"opened_date\"]\\n# Define minimum and maximum Timestamp values\\nmin_date = pd.Timestamp.min\\nmax_date = pd.Timestamp.max\\n\\n# if opemed_date is less than min_date, replace it with min_date\\npseudo_time_series[\\'opened_date_temp\\'] = pseudo_time_series[\\'opened_date_temp\\'].apply(lambda x: min_date if pd.isnull(x) and pd.to_datetime(x, errors=\\'ignore\\') < min_date else x)\\n# if opemed_date is greater than max_date, replace it with max_date\\npseudo_time_series[\\'opened_date_temp\\'] = pseudo_time_series[\\'opened_date_temp\\'].apply(lambda x: max_date if pd.isnull(x) and pd.to_datetime(x, errors=\\'ignore\\') > max_date else x)\\n\\n# Convert \\'date\\' column to datetime, setting out-of-bounds dates to NaT\\npseudo_time_series[\\'opened_date_temp\\'] = pd.to_datetime(pseudo_time_series[\\'opened_date_temp\\'], errors=\\'coerce\\')\\n\\nprint(pseudo_time_series[\\'opened_date_temp\\'])\\n'"
      ]
     },
     "execution_count": 10,
     "metadata": {},
     "output_type": "execute_result"
    }
   ],
   "source": [
    "\"\"\"\n",
    "#pseudo_time_series[\"opened_date\"]=pd.to_datetime(pseudo_time_series[\"opened_date\"])\n",
    "\n",
    "pseudo_time_series[\"opened_date_temp\"]=pseudo_time_series[\"opened_date\"]\n",
    "# Define minimum and maximum Timestamp values\n",
    "min_date = pd.Timestamp.min\n",
    "max_date = pd.Timestamp.max\n",
    "\n",
    "# if opemed_date is less than min_date, replace it with min_date\n",
    "pseudo_time_series['opened_date_temp'] = pseudo_time_series['opened_date_temp'].apply(lambda x: min_date if pd.isnull(x) and pd.to_datetime(x, errors='ignore') < min_date else x)\n",
    "# if opemed_date is greater than max_date, replace it with max_date\n",
    "pseudo_time_series['opened_date_temp'] = pseudo_time_series['opened_date_temp'].apply(lambda x: max_date if pd.isnull(x) and pd.to_datetime(x, errors='ignore') > max_date else x)\n",
    "\n",
    "# Convert 'date' column to datetime, setting out-of-bounds dates to NaT\n",
    "pseudo_time_series['opened_date_temp'] = pd.to_datetime(pseudo_time_series['opened_date_temp'], errors='coerce')\n",
    "\n",
    "print(pseudo_time_series['opened_date_temp'])\n",
    "\"\"\"\n"
   ]
  },
  {
   "cell_type": "code",
   "execution_count": 11,
   "metadata": {},
   "outputs": [],
   "source": [
    "pseudo_time_series[\"real_opened_date\"]=pd.to_datetime(pseudo_time_series[\"created_at\"])\n",
    "# opoen_date がある場合は、それを使う\n",
    "# pseudo_time_series.loc[pseudo_time_series[\"opened_date\"].notnull(),\"real_opened_date\"]=pd.to_datetime(pseudo_time_series[\"opened_date\"], format='%Y-%m-%d', errors='coerce')\n",
    "\n",
    "# \"created_at\" と yyyymmdd の差分を計算\n",
    "pseudo_time_series[\"openning_days\"] = pd.to_datetime(pseudo_time_series[\"base_date\"])-pd.to_datetime(pseudo_time_series[\"real_opened_date\"], errors='coerce')"
   ]
  },
  {
   "cell_type": "markdown",
   "metadata": {},
   "source": [
    "* price range をダミー化"
   ]
  },
  {
   "cell_type": "code",
   "execution_count": 12,
   "metadata": {},
   "outputs": [
    {
     "name": "stdout",
     "output_type": "stream",
     "text": [
      "～￥999\n",
      "￥1,000～￥1,999\n",
      "￥2,000～￥2,999\n",
      "￥3,000～￥3,999\n",
      "￥4,000～￥4,999\n",
      "￥5,000～￥5,999\n",
      "￥6,000～￥7,999\n",
      "￥8,000～￥9,999\n",
      "￥10,000～￥14,999\n",
      "￥15,000～￥19,999\n",
      "￥20,000～￥29,999\n",
      "￥30,000～￥39,999\n",
      "￥40,000～￥49,999\n",
      "￥50,000～￥59,999\n",
      "￥60,000～￥79,999\n",
      "￥80,000～￥99,999\n",
      "￥100,000～\n",
      "～￥999\n",
      "￥1,000～￥1,999\n",
      "￥2,000～￥2,999\n",
      "￥3,000～￥3,999\n",
      "￥4,000～￥4,999\n",
      "￥5,000～￥5,999\n",
      "￥6,000～￥7,999\n",
      "￥8,000～￥9,999\n",
      "￥10,000～￥14,999\n",
      "￥15,000～￥19,999\n",
      "￥20,000～￥29,999\n",
      "￥30,000～￥39,999\n",
      "￥40,000～￥49,999\n",
      "￥50,000～￥59,999\n",
      "￥60,000～￥79,999\n",
      "￥80,000～￥99,999\n",
      "￥100,000～\n",
      "～￥999\n",
      "￥1,000～￥1,999\n",
      "￥2,000～￥2,999\n",
      "￥3,000～￥3,999\n",
      "￥4,000～￥4,999\n",
      "￥5,000～￥5,999\n",
      "￥6,000～￥7,999\n",
      "￥8,000～￥9,999\n",
      "￥10,000～￥14,999\n",
      "￥15,000～￥19,999\n",
      "￥20,000～￥29,999\n",
      "￥30,000～￥39,999\n",
      "￥40,000～￥49,999\n",
      "￥50,000～￥59,999\n",
      "￥60,000～￥79,999\n",
      "￥80,000～￥99,999\n",
      "￥100,000～\n",
      "～￥999\n",
      "￥1,000～￥1,999\n",
      "￥2,000～￥2,999\n",
      "￥3,000～￥3,999\n",
      "￥4,000～￥4,999\n",
      "￥5,000～￥5,999\n",
      "￥6,000～￥7,999\n",
      "￥8,000～￥9,999\n",
      "￥10,000～￥14,999\n",
      "￥15,000～￥19,999\n",
      "￥20,000～￥29,999\n",
      "￥30,000～￥39,999\n",
      "￥40,000～￥49,999\n",
      "￥50,000～￥59,999\n",
      "￥60,000～￥79,999\n",
      "￥80,000～￥99,999\n",
      "￥100,000～\n"
     ]
    }
   ],
   "source": [
    "p_list=['price_range_lunch_by_owner','price_range_dinner_by_owner', 'price_range_lunch_by_review','price_range_dinner_by_review']\n",
    "for p in p_list:\n",
    "    pseudo_time_series=get_price_range_dummy(pseudo_time_series,p)"
   ]
  },
  {
   "cell_type": "code",
   "execution_count": null,
   "metadata": {},
   "outputs": [],
   "source": [
    "# base_dateがcreated_atよりも前の場合は eval_period を False にする\n",
    "pseudo_time_series.loc[pseudo_time_series[\"base_date\"]<pseudo_time_series[\"created_at\"],\"eval_period\"]=False"
   ]
  },
  {
   "cell_type": "code",
   "execution_count": null,
   "metadata": {},
   "outputs": [],
   "source": [
    "pseudo_time_series.to_pickle(data_folda+'pseudo_time_series_with_master.pkl')"
   ]
  }
 ],
 "metadata": {
  "kernelspec": {
   "display_name": "scoring",
   "language": "python",
   "name": "python3"
  },
  "language_info": {
   "codemirror_mode": {
    "name": "ipython",
    "version": 3
   },
   "file_extension": ".py",
   "mimetype": "text/x-python",
   "name": "python",
   "nbconvert_exporter": "python",
   "pygments_lexer": "ipython3",
   "version": "3.11.3"
  }
 },
 "nbformat": 4,
 "nbformat_minor": 2
}
