{
 "cells": [
  {
   "cell_type": "code",
   "execution_count": 1,
   "metadata": {},
   "outputs": [],
   "source": [
    "import pandas as pd\n",
    "import sys\n",
    "sys.path.append('./utils')\n",
    "from utils import *\n",
    "from rank import *\n",
    "from process import * \n",
    "from tqdm.notebook import tqdm\n",
    "import seaborn as sns\n",
    "\n",
    "# データ保存先\n",
    "data_folda = '../data/'"
   ]
  },
  {
   "cell_type": "code",
   "execution_count": 2,
   "metadata": {},
   "outputs": [
    {
     "data": {
      "text/plain": [
       "\"\\n#stationのlat,lonを日本測地系に変換\\ndef wgs2jgd(station):\\n    inProj = Proj(init='epsg:4326')\\n    outProj = Proj(init='epsg:2451')\\n    x1,y1 =station['lon'],station['lat']\\n    x2,y2 = transform(inProj,outProj,x1,y1)\\n    return x2,y2\\n\\nres = station[['lon','lat']].progress_apply(lambda x: wgs2jgd(x), axis=1)\\nstation[['eastlongitude','northlatitude']] = pd.DataFrame(res.tolist(), columns=['eastlongitude','northlatitude'])\\n\\nstation.to_pickle(data_folda+'station_address_jp_axis.pkl')\\n\""
      ]
     },
     "execution_count": 2,
     "metadata": {},
     "output_type": "execute_result"
    }
   ],
   "source": [
    "#stationのlat,lonとpseudo_time_seriesの'northlatitude','eastlongitude'の距離を計算\n",
    "# station は世界測地系、pseudo_time_series は日本測地系なので、両方を世界測地系に変換してから距離を計算する\n",
    "from geopy.distance import geodesic\n",
    "from pyproj import Proj, transform\n",
    "import warnings\n",
    "warnings.filterwarnings('ignore')\n",
    "from tqdm import tqdm\n",
    "tqdm.pandas(desc=\"Processing\")\n",
    "\n",
    "station=pd.read_csv(data_folda+\"/station_address/station20240318free.csv\")\n",
    "# 同じ station_cd の数をカウントして、付与する\n",
    "staion_cd_count=station.groupby('station_g_cd').size().reset_index(name='count').sort_values('count', ascending=False)\n",
    "station=pd.merge(station,staion_cd_count, on='station_g_cd', how='left')\n",
    "pseudo_time_series = pd.read_pickle(data_folda+'train_with_master.pkl')\n",
    "pseudo_time_series_unique_rest=pseudo_time_series.drop_duplicates(subset=['restaurant_id'])\n",
    "\n",
    "\n",
    "\"\"\"\n",
    "#stationのlat,lonを日本測地系に変換\n",
    "def wgs2jgd(station):\n",
    "    inProj = Proj(init='epsg:4326')\n",
    "    outProj = Proj(init='epsg:2451')\n",
    "    x1,y1 =station['lon'],station['lat']\n",
    "    x2,y2 = transform(inProj,outProj,x1,y1)\n",
    "    return x2,y2\n",
    "\n",
    "res = station[['lon','lat']].progress_apply(lambda x: wgs2jgd(x), axis=1)\n",
    "station[['eastlongitude','northlatitude']] = pd.DataFrame(res.tolist(), columns=['eastlongitude','northlatitude'])\n",
    "\n",
    "station.to_pickle(data_folda+'station_address_jp_axis.pkl')\n",
    "\"\"\""
   ]
  },
  {
   "cell_type": "code",
   "execution_count": 3,
   "metadata": {},
   "outputs": [],
   "source": [
    "station = pd.read_pickle(data_folda+'station_address_jp_axis.pkl')"
   ]
  },
  {
   "cell_type": "code",
   "execution_count": 4,
   "metadata": {},
   "outputs": [
    {
     "name": "stderr",
     "output_type": "stream",
     "text": [
      "Processing:   0%|          | 0/875314 [00:00<?, ?it/s]"
     ]
    },
    {
     "name": "stderr",
     "output_type": "stream",
     "text": [
      "Processing: 100%|██████████| 875314/875314 [3:11:33<00:00, 76.16it/s]   \n"
     ]
    }
   ],
   "source": [
    "def get_near_stations(lat_lon, distance=0.05):\n",
    "    near_stations = []\n",
    "    #print(station['lat'],lat_lon.values[0])\n",
    "    #print(len(station[abs(station['lat']-lat_lon.values[0])<distance]))\n",
    "    #print(len(station[abs(station['lon']-lat_lon.values[1])<distance]))\n",
    "    \n",
    "    temp=station[(abs(station['lat']-lat_lon.values[0])<distance)&(abs(station['lon']-lat_lon.values[1])<distance)]\n",
    "    lat_lon = (lat_lon.values[0],lat_lon.values[1])\n",
    "    \n",
    "    #最も近い駅を探す\n",
    "\n",
    "    \"\"\"\n",
    "    for i, row in temp.iterrows():\n",
    "        dist=geodesic(lat_lon,(row['lat'],row['lon'])).m\n",
    "        #最も短いstation_g_cdを返す\n",
    "        near_stations.append((row['station_g_cd'],dist))\n",
    "    \"\"\"\n",
    "    \"\"\"\n",
    "    #loopが遅いので、applyで回す\n",
    "    temp[\"dist\"] = temp.apply(lambda row: geodesic(lat_lon,(row['lat'],row['lon'])).m,axis=1)\n",
    "    \"\"\"\n",
    "\n",
    "    #loopが遅いので、applyで回す\n",
    "    near_stations = temp.apply(lambda row: [row['station_cd'],geodesic(lat_lon,(row['lat'],row['lon'])).m],axis=1).values.tolist()\n",
    "    \n",
    "    if len(near_stations)==0:\n",
    "        return [np.nan,np.nan]\n",
    "    \n",
    "    #print(near_stations)\n",
    "    # near_stations 2次元リストからを pandas に変換\n",
    "    near_stations = pd.DataFrame(near_stations, columns=['station_cd','dist']) \n",
    "    #print(\"pd\",near_stations)\n",
    "    \n",
    "    near_stations = near_stations.sort_values('dist',ascending=True)[['station_cd','dist']].values.tolist()\n",
    "    return near_stations[0]\n",
    "        \n",
    "         \n",
    "    \n",
    "pseudo_time_series_unique_rest.rename(columns={'northlatitude':'lat','eastlongitude':'lon'},inplace=True)\n",
    "res = pseudo_time_series_unique_rest[['lat','lon']].progress_apply(lambda x: get_near_stations(x),axis=1)\n",
    "\n",
    "res = pd.DataFrame(res.tolist(), columns=['station_cd','dist'])\n",
    "temp=pseudo_time_series_unique_rest.reset_index()\n",
    "temp['station_cd'] = res['station_cd']\n",
    "temp['dist_from_station'] = res['dist']\n",
    "temp[[\"dist_from_station\",\"restaurant_id\",\"dist_from_station\"]].to_pickle(data_folda+'train_with_station_dist.pkl')"
   ]
  },
  {
   "cell_type": "code",
   "execution_count": null,
   "metadata": {},
   "outputs": [],
   "source": []
  }
 ],
 "metadata": {
  "kernelspec": {
   "display_name": "scoring",
   "language": "python",
   "name": "python3"
  },
  "language_info": {
   "codemirror_mode": {
    "name": "ipython",
    "version": 3
   },
   "file_extension": ".py",
   "mimetype": "text/x-python",
   "name": "python",
   "nbconvert_exporter": "python",
   "pygments_lexer": "ipython3",
   "version": "3.11.3"
  }
 },
 "nbformat": 4,
 "nbformat_minor": 2
}
